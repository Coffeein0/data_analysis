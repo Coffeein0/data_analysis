{
  "cells": [
    {
      "cell_type": "markdown",
      "metadata": {},
      "source": [
        "**Цель работы:**\n",
        "\n",
        "Осуществить предварительную обработку данных csv-файла, выявить и устранить проблемы в этих данных."
      ]
    },
    {
      "cell_type": "markdown",
      "metadata": {
        "id": "r_e-GeJmgZ8l"
      },
      "source": [
        "**Задание**\n",
        "1. Загрузить датасет с помощью библиотеки ```pandas```.\n",
        "2. Вывести первые 20 строк с помощью метода ```head```.\n",
        "3. Выполнить обзор данных - описать столбцы и вашу предметную область.\n",
        "4. С помощью метода ```info``` оценить данные (есть ли пропуски, сколько всего строк, какие типы данных у столбцов).\n",
        "5. Применить ```describe```. С помощью ```describe``` оценить числовые столбцы (если они есть).\n",
        "6. Вывести на экран названия столбцов с помощью ```df.columns```. Выявить проблемы с названиями, если они есть. При необходимости переименовать столбцы. Если проблемы не обнаружены также дать пояснения.\n",
        "7. Проверить данные на наличие пропусков и устранить их, если они есть (пропуски необходимо либо удалить, либо заменить каким-то значением). Не забудьте пояснения!\n",
        "8. Проверьте данные на наличие явных и неявных дубликатов. Удалите дубликаты, если они есть.\n",
        "10. Проверьте типы данных, при необходимости измените типы данных, чтобы они соответствовали действительности.\n",
        "11. Осуществите группировки и создайте сводные таблицы в соответствии с вариантом.\n",
        "12. Сделайте выводе по работе."
      ]
    },
    {
      "cell_type": "markdown",
      "metadata": {},
      "source": [
        "# Загрузка набора данных"
      ]
    },
    {
      "cell_type": "markdown",
      "metadata": {
        "id": "eeq9ZAbSguQS"
      },
      "source": [
        "### Описание предметной области\n"
      ]
    },
    {
      "cell_type": "markdown",
      "metadata": {
        "id": "XHbH8zNIg0Ib"
      },
      "source": [
        "**Предметная область**\n",
        "Данные отражают информацию о зарплатах сотрудников: годы выплаты заработной платы, тип работы, должность, зарплата за год, зарплата в долларах, страна проживания, страна главного офиса и среднее кол-во людей в компании. Анализ этих данных позволяет выявить рыночные тенденции в оплате труда, уровень влияния таких факторов как расположение, тип работы и размер компании на доходы, а также обнаружить потенциальное неравенство для оптимизации бизнес-решений и карьерного планирования."
      ]
    },
    {
      "cell_type": "markdown",
      "metadata": {},
      "source": [
        "Вариант № 3\n",
        "\n",
        "Набор данных: ```salary.csv```\n",
        "\n",
        "Атрибуты:\\\n",
        "```work_year``` - Год выплаты заработной платы \\\n",
        "```employment_type``` - Тип работы\\\n",
        "```job_title``` - Должность\\\n",
        "```salary``` - Зарплата за год\\\n",
        "```salary_in_usd``` - Зарплата в долларах\\\n",
        "```employee_residence``` - Страна проживания\\\n",
        "```company_location``` - Страна главного офиса\\\n",
        "```company_size``` - Среднее кол-во людей в компании"
      ]
    },
    {
      "cell_type": "markdown",
      "metadata": {
        "id": "Lwin9ia7hT1i"
      },
      "source": [
        "### 1.Чтение файла (набора данных)"
      ]
    },
    {
      "cell_type": "markdown",
      "metadata": {
        "id": "a5dYQO5YhOYa"
      },
      "source": [
        "Импорт библиотек, чтение файла с помощью ```pandas```"
      ]
    },
    {
      "cell_type": "code",
      "execution_count": 56,
      "metadata": {},
      "outputs": [],
      "source": [
        "import pandas as pd\n",
        "df = pd.read_csv(\"salary.csv\", sep=';')\n"
      ]
    },
    {
      "cell_type": "code",
      "execution_count": null,
      "metadata": {},
      "outputs": [],
      "source": []
    },
    {
      "cell_type": "markdown",
      "metadata": {
        "id": "p82p53SvhjLN"
      },
      "source": [
        "---\n",
        "**Пояснение:**\\\n",
        "В моём датасете данные отделены друг от друга точкой с запятой;\\\n",
        "Стандартный разделиль в pandas - запятая;\\\n",
        "Для корректного чтения таблицы была применена команда ```df = pd.read_csv(\"salary.csv\", sep=';')```;\\\n",
        "Которая позволила читать таблицу с разделителем - ```;```.\n",
        "\n",
        "\n",
        "---"
      ]
    },
    {
      "cell_type": "markdown",
      "metadata": {},
      "source": [
        "### 2. Обзор данных"
      ]
    },
    {
      "cell_type": "markdown",
      "metadata": {
        "id": "eAYzXaLrh-qh"
      },
      "source": [
        "2.1 Вывод первых 20 строк с помощью метода head."
      ]
    },
    {
      "cell_type": "code",
      "execution_count": 57,
      "metadata": {
        "id": "7yMo3VZ_hotx"
      },
      "outputs": [
        {
          "data": {
            "text/html": [
              "<div>\n",
              "<style scoped>\n",
              "    .dataframe tbody tr th:only-of-type {\n",
              "        vertical-align: middle;\n",
              "    }\n",
              "\n",
              "    .dataframe tbody tr th {\n",
              "        vertical-align: top;\n",
              "    }\n",
              "\n",
              "    .dataframe thead th {\n",
              "        text-align: right;\n",
              "    }\n",
              "</style>\n",
              "<table border=\"1\" class=\"dataframe\">\n",
              "  <thead>\n",
              "    <tr style=\"text-align: right;\">\n",
              "      <th></th>\n",
              "      <th>work_year</th>\n",
              "      <th>employment_type</th>\n",
              "      <th>job_title</th>\n",
              "      <th>salary</th>\n",
              "      <th>salary_in_usd</th>\n",
              "      <th>employee_residence</th>\n",
              "      <th>company_location</th>\n",
              "      <th>company_size</th>\n",
              "    </tr>\n",
              "  </thead>\n",
              "  <tbody>\n",
              "    <tr>\n",
              "      <th>0</th>\n",
              "      <td>2020.00</td>\n",
              "      <td>FT</td>\n",
              "      <td>Data SCIENTIST</td>\n",
              "      <td>70000.00</td>\n",
              "      <td>79833.00</td>\n",
              "      <td>DE</td>\n",
              "      <td>DE</td>\n",
              "      <td>L</td>\n",
              "    </tr>\n",
              "    <tr>\n",
              "      <th>1</th>\n",
              "      <td>2020.00</td>\n",
              "      <td>FT</td>\n",
              "      <td>Product Data Analyst</td>\n",
              "      <td>20000.00</td>\n",
              "      <td>20000.00</td>\n",
              "      <td>HN</td>\n",
              "      <td>HN</td>\n",
              "      <td>S</td>\n",
              "    </tr>\n",
              "    <tr>\n",
              "      <th>2</th>\n",
              "      <td>2020.00</td>\n",
              "      <td>FT</td>\n",
              "      <td>Data Analyst</td>\n",
              "      <td>72000.00</td>\n",
              "      <td>72000.00</td>\n",
              "      <td>US</td>\n",
              "      <td>US</td>\n",
              "      <td>L</td>\n",
              "    </tr>\n",
              "    <tr>\n",
              "      <th>3</th>\n",
              "      <td>2020.00</td>\n",
              "      <td>FT</td>\n",
              "      <td>Data Scientist</td>\n",
              "      <td>11000000.00</td>\n",
              "      <td>35735.00</td>\n",
              "      <td>HU</td>\n",
              "      <td>HU</td>\n",
              "      <td>L</td>\n",
              "    </tr>\n",
              "    <tr>\n",
              "      <th>4</th>\n",
              "      <td>2020.00</td>\n",
              "      <td>FT</td>\n",
              "      <td>Data Scientist</td>\n",
              "      <td>45000.00</td>\n",
              "      <td>51321.00</td>\n",
              "      <td>FR</td>\n",
              "      <td>FR</td>\n",
              "      <td>S</td>\n",
              "    </tr>\n",
              "    <tr>\n",
              "      <th>5</th>\n",
              "      <td>2020.00</td>\n",
              "      <td>FT</td>\n",
              "      <td>Data Scientist</td>\n",
              "      <td>3000000.00</td>\n",
              "      <td>40481.00</td>\n",
              "      <td>IN</td>\n",
              "      <td>IN</td>\n",
              "      <td>L</td>\n",
              "    </tr>\n",
              "    <tr>\n",
              "      <th>6</th>\n",
              "      <td>2020.00</td>\n",
              "      <td>FT</td>\n",
              "      <td>Data Scientist</td>\n",
              "      <td>35000.00</td>\n",
              "      <td>39916.00</td>\n",
              "      <td>FR</td>\n",
              "      <td>FR</td>\n",
              "      <td>M</td>\n",
              "    </tr>\n",
              "    <tr>\n",
              "      <th>7</th>\n",
              "      <td>2020.00</td>\n",
              "      <td>FT</td>\n",
              "      <td>Data Analyst</td>\n",
              "      <td>85000.00</td>\n",
              "      <td>85000.00</td>\n",
              "      <td>US</td>\n",
              "      <td>US</td>\n",
              "      <td>L</td>\n",
              "    </tr>\n",
              "    <tr>\n",
              "      <th>8</th>\n",
              "      <td>2020.00</td>\n",
              "      <td>FT</td>\n",
              "      <td>Data Analyst</td>\n",
              "      <td>8000.00</td>\n",
              "      <td>8000.00</td>\n",
              "      <td>PK</td>\n",
              "      <td>PK</td>\n",
              "      <td>Large</td>\n",
              "    </tr>\n",
              "    <tr>\n",
              "      <th>9</th>\n",
              "      <td>2020.00</td>\n",
              "      <td>FT</td>\n",
              "      <td>Data Engineer</td>\n",
              "      <td>4450000.00</td>\n",
              "      <td>41689.00</td>\n",
              "      <td>JP</td>\n",
              "      <td>JP</td>\n",
              "      <td>S</td>\n",
              "    </tr>\n",
              "    <tr>\n",
              "      <th>10</th>\n",
              "      <td>2020.00</td>\n",
              "      <td>FT</td>\n",
              "      <td>Product Data Analyst</td>\n",
              "      <td>450000.00</td>\n",
              "      <td>6072.00</td>\n",
              "      <td>IN</td>\n",
              "      <td>IN</td>\n",
              "      <td>L</td>\n",
              "    </tr>\n",
              "    <tr>\n",
              "      <th>11</th>\n",
              "      <td>2020.00</td>\n",
              "      <td>FT</td>\n",
              "      <td>Data Engineer</td>\n",
              "      <td>42000.00</td>\n",
              "      <td>47899.00</td>\n",
              "      <td>GR</td>\n",
              "      <td>GR</td>\n",
              "      <td>L</td>\n",
              "    </tr>\n",
              "    <tr>\n",
              "      <th>12</th>\n",
              "      <td>2020.00</td>\n",
              "      <td>FT</td>\n",
              "      <td>Data Engineer</td>\n",
              "      <td>720000.00</td>\n",
              "      <td>33511.00</td>\n",
              "      <td>MX</td>\n",
              "      <td>MX</td>\n",
              "      <td>S</td>\n",
              "    </tr>\n",
              "    <tr>\n",
              "      <th>13</th>\n",
              "      <td>2020.00</td>\n",
              "      <td>FT</td>\n",
              "      <td>Machine Learning Manager</td>\n",
              "      <td>157000.00</td>\n",
              "      <td>117104.00</td>\n",
              "      <td>CA</td>\n",
              "      <td>CA</td>\n",
              "      <td>L</td>\n",
              "    </tr>\n",
              "    <tr>\n",
              "      <th>14</th>\n",
              "      <td>2020.00</td>\n",
              "      <td>FT</td>\n",
              "      <td>Data Scientist</td>\n",
              "      <td>60000.00</td>\n",
              "      <td>68428.00</td>\n",
              "      <td>GR</td>\n",
              "      <td>US</td>\n",
              "      <td>L</td>\n",
              "    </tr>\n",
              "    <tr>\n",
              "      <th>15</th>\n",
              "      <td>2020.00</td>\n",
              "      <td>FT</td>\n",
              "      <td>Data Analyst</td>\n",
              "      <td>41000.00</td>\n",
              "      <td>46759.00</td>\n",
              "      <td>FR</td>\n",
              "      <td>FR</td>\n",
              "      <td>L</td>\n",
              "    </tr>\n",
              "    <tr>\n",
              "      <th>16</th>\n",
              "      <td>2020.00</td>\n",
              "      <td>FT</td>\n",
              "      <td>Data Engineer</td>\n",
              "      <td>65000.00</td>\n",
              "      <td>74130.00</td>\n",
              "      <td>AT</td>\n",
              "      <td>AT</td>\n",
              "      <td>L</td>\n",
              "    </tr>\n",
              "    <tr>\n",
              "      <th>17</th>\n",
              "      <td>2020.00</td>\n",
              "      <td>FT</td>\n",
              "      <td>Data Analyst</td>\n",
              "      <td>10000.00</td>\n",
              "      <td>10000.00</td>\n",
              "      <td>NG</td>\n",
              "      <td>NG</td>\n",
              "      <td>S</td>\n",
              "    </tr>\n",
              "    <tr>\n",
              "      <th>18</th>\n",
              "      <td>2020.00</td>\n",
              "      <td>FT</td>\n",
              "      <td>Data Scientist</td>\n",
              "      <td>45760.00</td>\n",
              "      <td>45760.00</td>\n",
              "      <td>PH</td>\n",
              "      <td>US</td>\n",
              "      <td>S</td>\n",
              "    </tr>\n",
              "    <tr>\n",
              "      <th>19</th>\n",
              "      <td>2020.00</td>\n",
              "      <td>FT</td>\n",
              "      <td>Data Engineer</td>\n",
              "      <td>106000.00</td>\n",
              "      <td>106000.00</td>\n",
              "      <td>US</td>\n",
              "      <td>US</td>\n",
              "      <td>L</td>\n",
              "    </tr>\n",
              "  </tbody>\n",
              "</table>\n",
              "</div>"
            ],
            "text/plain": [
              "    work_year employment_type                 job_title      salary  \\\n",
              "0     2020.00              FT            Data SCIENTIST    70000.00   \n",
              "1     2020.00              FT      Product Data Analyst    20000.00   \n",
              "2     2020.00              FT              Data Analyst    72000.00   \n",
              "3     2020.00              FT            Data Scientist 11000000.00   \n",
              "4     2020.00              FT            Data Scientist    45000.00   \n",
              "5     2020.00              FT            Data Scientist  3000000.00   \n",
              "6     2020.00              FT            Data Scientist    35000.00   \n",
              "7     2020.00              FT              Data Analyst    85000.00   \n",
              "8     2020.00              FT              Data Analyst     8000.00   \n",
              "9     2020.00              FT             Data Engineer  4450000.00   \n",
              "10    2020.00              FT      Product Data Analyst   450000.00   \n",
              "11    2020.00              FT             Data Engineer    42000.00   \n",
              "12    2020.00              FT             Data Engineer   720000.00   \n",
              "13    2020.00              FT  Machine Learning Manager   157000.00   \n",
              "14    2020.00              FT            Data Scientist    60000.00   \n",
              "15    2020.00              FT              Data Analyst    41000.00   \n",
              "16    2020.00              FT             Data Engineer    65000.00   \n",
              "17    2020.00              FT              Data Analyst    10000.00   \n",
              "18    2020.00              FT            Data Scientist    45760.00   \n",
              "19    2020.00              FT             Data Engineer   106000.00   \n",
              "\n",
              "    salary_in_usd employee_residence company_location company_size  \n",
              "0        79833.00                 DE               DE            L  \n",
              "1        20000.00                 HN               HN            S  \n",
              "2        72000.00                 US               US            L  \n",
              "3        35735.00                 HU               HU            L  \n",
              "4        51321.00                 FR               FR            S  \n",
              "5        40481.00                 IN               IN            L  \n",
              "6        39916.00                 FR               FR            M  \n",
              "7        85000.00                 US               US            L  \n",
              "8         8000.00                 PK               PK        Large  \n",
              "9        41689.00                 JP               JP            S  \n",
              "10        6072.00                 IN               IN            L  \n",
              "11       47899.00                 GR               GR            L  \n",
              "12       33511.00                 MX               MX            S  \n",
              "13      117104.00                 CA               CA            L  \n",
              "14       68428.00                 GR               US            L  \n",
              "15       46759.00                 FR               FR            L  \n",
              "16       74130.00                 AT               AT            L  \n",
              "17       10000.00                 NG               NG            S  \n",
              "18       45760.00                 PH               US            S  \n",
              "19      106000.00                 US               US            L  "
            ]
          },
          "execution_count": 57,
          "metadata": {},
          "output_type": "execute_result"
        }
      ],
      "source": [
        "df.head(20)"
      ]
    },
    {
      "cell_type": "markdown",
      "metadata": {
        "id": "Ze-lXxLMhpWv"
      },
      "source": [
        "2.2 Оценка данных с помощью метода info."
      ]
    },
    {
      "cell_type": "code",
      "execution_count": 58,
      "metadata": {
        "id": "bjhngmaLiGM-"
      },
      "outputs": [
        {
          "name": "stdout",
          "output_type": "stream",
          "text": [
            "<class 'pandas.core.frame.DataFrame'>\n",
            "RangeIndex: 401 entries, 0 to 400\n",
            "Data columns (total 8 columns):\n",
            " #   Column              Non-Null Count  Dtype  \n",
            "---  ------              --------------  -----  \n",
            " 0   work_year           401 non-null    float64\n",
            " 1   employment_type     401 non-null    object \n",
            " 2   job_title           401 non-null    object \n",
            " 3   salary              398 non-null    float64\n",
            " 4   salary_in_usd       401 non-null    float64\n",
            " 5   employee_residence  401 non-null    object \n",
            " 6   company_location    401 non-null    object \n",
            " 7   company_size        401 non-null    object \n",
            "dtypes: float64(3), object(5)\n",
            "memory usage: 25.2+ KB\n"
          ]
        }
      ],
      "source": [
        "df.info()"
      ]
    },
    {
      "cell_type": "markdown",
      "metadata": {
        "id": "06PDq9DAiMAY"
      },
      "source": [
        "---\n",
        "**Пояснение:**\\\n",
        "В наборе данных 401 строка и 8 столбцов;\\\n",
        "Есть числовые и категориальные признаки;\\\n",
        "Пропуски обнаружены в столбце 3 - salary в количестве 3х штук;\\\n",
        "Эти пропуски нужно будет убрать, например заполнить медианой.\n",
        "\n",
        "---"
      ]
    },
    {
      "cell_type": "markdown",
      "metadata": {},
      "source": [
        "2.3 Оценка данных с помощью метода describe."
      ]
    },
    {
      "cell_type": "code",
      "execution_count": 59,
      "metadata": {
        "id": "cTVFwzO1jQfN"
      },
      "outputs": [
        {
          "data": {
            "text/html": [
              "<div>\n",
              "<style scoped>\n",
              "    .dataframe tbody tr th:only-of-type {\n",
              "        vertical-align: middle;\n",
              "    }\n",
              "\n",
              "    .dataframe tbody tr th {\n",
              "        vertical-align: top;\n",
              "    }\n",
              "\n",
              "    .dataframe thead th {\n",
              "        text-align: right;\n",
              "    }\n",
              "</style>\n",
              "<table border=\"1\" class=\"dataframe\">\n",
              "  <thead>\n",
              "    <tr style=\"text-align: right;\">\n",
              "      <th></th>\n",
              "      <th>work_year</th>\n",
              "      <th>salary</th>\n",
              "      <th>salary_in_usd</th>\n",
              "    </tr>\n",
              "  </thead>\n",
              "  <tbody>\n",
              "    <tr>\n",
              "      <th>count</th>\n",
              "      <td>401.00</td>\n",
              "      <td>398.00</td>\n",
              "      <td>401.00</td>\n",
              "    </tr>\n",
              "    <tr>\n",
              "      <th>mean</th>\n",
              "      <td>2021.53</td>\n",
              "      <td>288833.60</td>\n",
              "      <td>105895.02</td>\n",
              "    </tr>\n",
              "    <tr>\n",
              "      <th>std</th>\n",
              "      <td>0.68</td>\n",
              "      <td>1677081.02</td>\n",
              "      <td>58183.66</td>\n",
              "    </tr>\n",
              "    <tr>\n",
              "      <th>min</th>\n",
              "      <td>2020.00</td>\n",
              "      <td>4000.00</td>\n",
              "      <td>2859.00</td>\n",
              "    </tr>\n",
              "    <tr>\n",
              "      <th>25%</th>\n",
              "      <td>2021.00</td>\n",
              "      <td>67000.00</td>\n",
              "      <td>65013.00</td>\n",
              "    </tr>\n",
              "    <tr>\n",
              "      <th>50%</th>\n",
              "      <td>2022.00</td>\n",
              "      <td>109140.00</td>\n",
              "      <td>100000.00</td>\n",
              "    </tr>\n",
              "    <tr>\n",
              "      <th>75%</th>\n",
              "      <td>2022.00</td>\n",
              "      <td>150000.00</td>\n",
              "      <td>140000.00</td>\n",
              "    </tr>\n",
              "    <tr>\n",
              "      <th>max</th>\n",
              "      <td>2022.00</td>\n",
              "      <td>30400000.00</td>\n",
              "      <td>412000.00</td>\n",
              "    </tr>\n",
              "  </tbody>\n",
              "</table>\n",
              "</div>"
            ],
            "text/plain": [
              "       work_year      salary  salary_in_usd\n",
              "count     401.00      398.00         401.00\n",
              "mean     2021.53   288833.60      105895.02\n",
              "std         0.68  1677081.02       58183.66\n",
              "min      2020.00     4000.00        2859.00\n",
              "25%      2021.00    67000.00       65013.00\n",
              "50%      2022.00   109140.00      100000.00\n",
              "75%      2022.00   150000.00      140000.00\n",
              "max      2022.00 30400000.00      412000.00"
            ]
          },
          "execution_count": 59,
          "metadata": {},
          "output_type": "execute_result"
        }
      ],
      "source": [
        "df.describe()"
      ]
    },
    {
      "cell_type": "markdown",
      "metadata": {
        "id": "oOZUrZGuiGqc"
      },
      "source": [
        "\n",
        "---\n",
        "\n",
        "**Пояснение:**\\\n",
        "Первым делом мы видим, что из-за больших значений атрибута salary форма отображения значений приняла экспоненциальный вид;\\\n",
        "Для более удобного анализа результатов работы команды describe предлагаю изменить вид отображения результатов командой set_option.\n",
        "\n",
        " ---\n"
      ]
    },
    {
      "cell_type": "code",
      "execution_count": 60,
      "metadata": {},
      "outputs": [
        {
          "data": {
            "text/html": [
              "<div>\n",
              "<style scoped>\n",
              "    .dataframe tbody tr th:only-of-type {\n",
              "        vertical-align: middle;\n",
              "    }\n",
              "\n",
              "    .dataframe tbody tr th {\n",
              "        vertical-align: top;\n",
              "    }\n",
              "\n",
              "    .dataframe thead th {\n",
              "        text-align: right;\n",
              "    }\n",
              "</style>\n",
              "<table border=\"1\" class=\"dataframe\">\n",
              "  <thead>\n",
              "    <tr style=\"text-align: right;\">\n",
              "      <th></th>\n",
              "      <th>work_year</th>\n",
              "      <th>salary</th>\n",
              "      <th>salary_in_usd</th>\n",
              "    </tr>\n",
              "  </thead>\n",
              "  <tbody>\n",
              "    <tr>\n",
              "      <th>count</th>\n",
              "      <td>401.0000</td>\n",
              "      <td>398.0000</td>\n",
              "      <td>401.0000</td>\n",
              "    </tr>\n",
              "    <tr>\n",
              "      <th>mean</th>\n",
              "      <td>2021.5287</td>\n",
              "      <td>288833.6030</td>\n",
              "      <td>105895.0175</td>\n",
              "    </tr>\n",
              "    <tr>\n",
              "      <th>std</th>\n",
              "      <td>0.6781</td>\n",
              "      <td>1677081.0155</td>\n",
              "      <td>58183.6642</td>\n",
              "    </tr>\n",
              "    <tr>\n",
              "      <th>min</th>\n",
              "      <td>2020.0000</td>\n",
              "      <td>4000.0000</td>\n",
              "      <td>2859.0000</td>\n",
              "    </tr>\n",
              "    <tr>\n",
              "      <th>25%</th>\n",
              "      <td>2021.0000</td>\n",
              "      <td>67000.0000</td>\n",
              "      <td>65013.0000</td>\n",
              "    </tr>\n",
              "    <tr>\n",
              "      <th>50%</th>\n",
              "      <td>2022.0000</td>\n",
              "      <td>109140.0000</td>\n",
              "      <td>100000.0000</td>\n",
              "    </tr>\n",
              "    <tr>\n",
              "      <th>75%</th>\n",
              "      <td>2022.0000</td>\n",
              "      <td>150000.0000</td>\n",
              "      <td>140000.0000</td>\n",
              "    </tr>\n",
              "    <tr>\n",
              "      <th>max</th>\n",
              "      <td>2022.0000</td>\n",
              "      <td>30400000.0000</td>\n",
              "      <td>412000.0000</td>\n",
              "    </tr>\n",
              "  </tbody>\n",
              "</table>\n",
              "</div>"
            ],
            "text/plain": [
              "       work_year        salary  salary_in_usd\n",
              "count   401.0000      398.0000       401.0000\n",
              "mean   2021.5287   288833.6030    105895.0175\n",
              "std       0.6781  1677081.0155     58183.6642\n",
              "min    2020.0000     4000.0000      2859.0000\n",
              "25%    2021.0000    67000.0000     65013.0000\n",
              "50%    2022.0000   109140.0000    100000.0000\n",
              "75%    2022.0000   150000.0000    140000.0000\n",
              "max    2022.0000 30400000.0000    412000.0000"
            ]
          },
          "execution_count": 60,
          "metadata": {},
          "output_type": "execute_result"
        }
      ],
      "source": [
        "pd.set_option('display.float_format', '{:.4f}'.format)\n",
        "df.describe()"
      ]
    },
    {
      "cell_type": "markdown",
      "metadata": {},
      "source": [
        "\n",
        "---\n",
        "\n",
        "**Пояснение:**\\\n",
        "После применения команды отображение приняло обычный вид, с точностью - 4 знака после запятой;\\\n",
        "Была произведена оценка числовых столбцов с помощью ```describe```;\\\n",
        "В датасете 401 запись;\\\n",
        "Медиана года выплат - 2021.5287, аномалии в столбце не выявлены;\\\n",
        "Зарплата за год варьируется в диапазоне от 4000, до 30400000;\\\n",
        "Зарплата в доллара: в диапазоне от 2859 до 412000, медиана - 105895.0175.\n",
        "\n",
        "\n",
        " ---\n"
      ]
    },
    {
      "cell_type": "markdown",
      "metadata": {
        "id": "JTbo0IGDiHxn"
      },
      "source": [
        " 2.4 Оценка названий столбцов"
      ]
    },
    {
      "cell_type": "code",
      "execution_count": 61,
      "metadata": {
        "id": "9NEyi2Odik3e"
      },
      "outputs": [
        {
          "data": {
            "text/plain": [
              "Index(['work_year', 'employment_type', 'job_title', 'salary', 'salary_in_usd',\n",
              "       'employee_residence', 'company_location', 'company_size'],\n",
              "      dtype='object')"
            ]
          },
          "execution_count": 61,
          "metadata": {},
          "output_type": "execute_result"
        }
      ],
      "source": [
        "df.columns"
      ]
    },
    {
      "cell_type": "markdown",
      "metadata": {
        "id": "QSJBLl4qjjP8"
      },
      "source": [
        "---\n",
        "**Пояснения:**\\\n",
        "Названия столбцов корректны и не требуют изменений.\n",
        "\n",
        "---"
      ]
    },
    {
      "cell_type": "markdown",
      "metadata": {
        "id": "V0tLQcyrjnA_"
      },
      "source": [
        "### 3. Проверка пропусков"
      ]
    },
    {
      "cell_type": "code",
      "execution_count": 62,
      "metadata": {
        "id": "xuTz-Avjj9AW"
      },
      "outputs": [
        {
          "data": {
            "text/plain": [
              "work_year             0\n",
              "employment_type       0\n",
              "job_title             0\n",
              "salary                0\n",
              "salary_in_usd         0\n",
              "employee_residence    0\n",
              "company_location      0\n",
              "company_size          0\n",
              "dtype: int64"
            ]
          },
          "execution_count": 62,
          "metadata": {},
          "output_type": "execute_result"
        }
      ],
      "source": [
        "df.isna().sum()\n",
        "df['salary'] = df['salary'].fillna(df['salary'].median())\n",
        "df.isna().sum()"
      ]
    },
    {
      "cell_type": "markdown",
      "metadata": {
        "id": "efZ7vgSVkPQH"
      },
      "source": [
        "\n",
        "---\n",
        "\n",
        "**Пояснения:**\\\n",
        "В моём случае в датасете только 3 пропуска в поле salary, которое имеет числовое значение, для их устранения можно либо удалить эти строки, либо заменить медианой.\\\n",
        "Мной было принято решение заменить пропуски медианой, так как удаление строк может негативно сказаться на статистике других атрибутов, например поля зарплат в долларах.\\\n",
        "Команда для удаления строк с пропусками ```df = df.dropna()```.\\\n",
        "Пропуски в колонне salary (3) были заменены медианой, что позволило сохранить все строки датасета без потери и искажения данных.\n",
        "\n",
        "---"
      ]
    },
    {
      "cell_type": "markdown",
      "metadata": {
        "id": "kkyrXXHikEXk"
      },
      "source": [
        "### 4. Проверка дубликатов"
      ]
    },
    {
      "cell_type": "markdown",
      "metadata": {
        "id": "ImqHvr3okIQ6"
      },
      "source": [
        "#### Проверка явных дубликатов"
      ]
    },
    {
      "cell_type": "code",
      "execution_count": 63,
      "metadata": {
        "id": "qu1oh-e5lDZ1"
      },
      "outputs": [
        {
          "data": {
            "text/html": [
              "<div>\n",
              "<style scoped>\n",
              "    .dataframe tbody tr th:only-of-type {\n",
              "        vertical-align: middle;\n",
              "    }\n",
              "\n",
              "    .dataframe tbody tr th {\n",
              "        vertical-align: top;\n",
              "    }\n",
              "\n",
              "    .dataframe thead th {\n",
              "        text-align: right;\n",
              "    }\n",
              "</style>\n",
              "<table border=\"1\" class=\"dataframe\">\n",
              "  <thead>\n",
              "    <tr style=\"text-align: right;\">\n",
              "      <th></th>\n",
              "      <th>work_year</th>\n",
              "      <th>employment_type</th>\n",
              "      <th>job_title</th>\n",
              "      <th>salary</th>\n",
              "      <th>salary_in_usd</th>\n",
              "      <th>employee_residence</th>\n",
              "      <th>company_location</th>\n",
              "      <th>company_size</th>\n",
              "    </tr>\n",
              "  </thead>\n",
              "  <tbody>\n",
              "    <tr>\n",
              "      <th>104</th>\n",
              "      <td>2021.0000</td>\n",
              "      <td>FT</td>\n",
              "      <td>Data Scientist</td>\n",
              "      <td>76760.0000</td>\n",
              "      <td>90734.0000</td>\n",
              "      <td>DE</td>\n",
              "      <td>DE</td>\n",
              "      <td>L</td>\n",
              "    </tr>\n",
              "    <tr>\n",
              "      <th>130</th>\n",
              "      <td>2021.0000</td>\n",
              "      <td>FT</td>\n",
              "      <td>Data Engineer</td>\n",
              "      <td>200000.0000</td>\n",
              "      <td>200000.0000</td>\n",
              "      <td>US</td>\n",
              "      <td>US</td>\n",
              "      <td>L</td>\n",
              "    </tr>\n",
              "    <tr>\n",
              "      <th>172</th>\n",
              "      <td>2022.0000</td>\n",
              "      <td>FT</td>\n",
              "      <td>Data Engineer</td>\n",
              "      <td>40000.0000</td>\n",
              "      <td>52351.0000</td>\n",
              "      <td>GB</td>\n",
              "      <td>GB</td>\n",
              "      <td>M</td>\n",
              "    </tr>\n",
              "    <tr>\n",
              "      <th>189</th>\n",
              "      <td>2022.0000</td>\n",
              "      <td>FT</td>\n",
              "      <td>Data Analyst</td>\n",
              "      <td>90320.0000</td>\n",
              "      <td>90320.0000</td>\n",
              "      <td>US</td>\n",
              "      <td>US</td>\n",
              "      <td>M</td>\n",
              "    </tr>\n",
              "    <tr>\n",
              "      <th>190</th>\n",
              "      <td>2022.0000</td>\n",
              "      <td>FT</td>\n",
              "      <td>Data Analyst</td>\n",
              "      <td>112900.0000</td>\n",
              "      <td>112900.0000</td>\n",
              "      <td>US</td>\n",
              "      <td>US</td>\n",
              "      <td>M</td>\n",
              "    </tr>\n",
              "    <tr>\n",
              "      <th>191</th>\n",
              "      <td>2022.0000</td>\n",
              "      <td>FT</td>\n",
              "      <td>Data Analyst</td>\n",
              "      <td>90320.0000</td>\n",
              "      <td>90320.0000</td>\n",
              "      <td>US</td>\n",
              "      <td>US</td>\n",
              "      <td>M</td>\n",
              "    </tr>\n",
              "    <tr>\n",
              "      <th>193</th>\n",
              "      <td>2022.0000</td>\n",
              "      <td>FT</td>\n",
              "      <td>Data Engineer</td>\n",
              "      <td>132320.0000</td>\n",
              "      <td>132320.0000</td>\n",
              "      <td>US</td>\n",
              "      <td>US</td>\n",
              "      <td>M</td>\n",
              "    </tr>\n",
              "    <tr>\n",
              "      <th>208</th>\n",
              "      <td>2022.0000</td>\n",
              "      <td>FT</td>\n",
              "      <td>Data Scientist</td>\n",
              "      <td>123000.0000</td>\n",
              "      <td>123000.0000</td>\n",
              "      <td>US</td>\n",
              "      <td>US</td>\n",
              "      <td>M</td>\n",
              "    </tr>\n",
              "    <tr>\n",
              "      <th>209</th>\n",
              "      <td>2022.0000</td>\n",
              "      <td>FT</td>\n",
              "      <td>Data Engineer</td>\n",
              "      <td>60000.0000</td>\n",
              "      <td>78526.0000</td>\n",
              "      <td>GB</td>\n",
              "      <td>GB</td>\n",
              "      <td>M</td>\n",
              "    </tr>\n",
              "    <tr>\n",
              "      <th>215</th>\n",
              "      <td>2022.0000</td>\n",
              "      <td>FT</td>\n",
              "      <td>Data Analyst</td>\n",
              "      <td>130000.0000</td>\n",
              "      <td>130000.0000</td>\n",
              "      <td>CA</td>\n",
              "      <td>CA</td>\n",
              "      <td>M</td>\n",
              "    </tr>\n",
              "    <tr>\n",
              "      <th>216</th>\n",
              "      <td>2022.0000</td>\n",
              "      <td>FT</td>\n",
              "      <td>Data Analyst</td>\n",
              "      <td>61300.0000</td>\n",
              "      <td>61300.0000</td>\n",
              "      <td>CA</td>\n",
              "      <td>CA</td>\n",
              "      <td>M</td>\n",
              "    </tr>\n",
              "    <tr>\n",
              "      <th>222</th>\n",
              "      <td>2022.0000</td>\n",
              "      <td>FT</td>\n",
              "      <td>Data Scientist</td>\n",
              "      <td>123000.0000</td>\n",
              "      <td>123000.0000</td>\n",
              "      <td>US</td>\n",
              "      <td>US</td>\n",
              "      <td>M</td>\n",
              "    </tr>\n",
              "    <tr>\n",
              "      <th>224</th>\n",
              "      <td>2022.0000</td>\n",
              "      <td>FT</td>\n",
              "      <td>Data Engineer</td>\n",
              "      <td>165400.0000</td>\n",
              "      <td>165400.0000</td>\n",
              "      <td>US</td>\n",
              "      <td>US</td>\n",
              "      <td>M</td>\n",
              "    </tr>\n",
              "    <tr>\n",
              "      <th>230</th>\n",
              "      <td>2022.0000</td>\n",
              "      <td>FT</td>\n",
              "      <td>Data Engineer</td>\n",
              "      <td>132320.0000</td>\n",
              "      <td>132320.0000</td>\n",
              "      <td>US</td>\n",
              "      <td>US</td>\n",
              "      <td>M</td>\n",
              "    </tr>\n",
              "    <tr>\n",
              "      <th>233</th>\n",
              "      <td>2022.0000</td>\n",
              "      <td>FT</td>\n",
              "      <td>Data Analyst</td>\n",
              "      <td>112900.0000</td>\n",
              "      <td>112900.0000</td>\n",
              "      <td>US</td>\n",
              "      <td>US</td>\n",
              "      <td>M</td>\n",
              "    </tr>\n",
              "    <tr>\n",
              "      <th>234</th>\n",
              "      <td>2022.0000</td>\n",
              "      <td>FT</td>\n",
              "      <td>Data Analyst</td>\n",
              "      <td>90320.0000</td>\n",
              "      <td>90320.0000</td>\n",
              "      <td>US</td>\n",
              "      <td>US</td>\n",
              "      <td>M</td>\n",
              "    </tr>\n",
              "    <tr>\n",
              "      <th>246</th>\n",
              "      <td>2022.0000</td>\n",
              "      <td>FT</td>\n",
              "      <td>Data Analyst</td>\n",
              "      <td>58000.0000</td>\n",
              "      <td>58000.0000</td>\n",
              "      <td>US</td>\n",
              "      <td>US</td>\n",
              "      <td>S</td>\n",
              "    </tr>\n",
              "    <tr>\n",
              "      <th>254</th>\n",
              "      <td>2022.0000</td>\n",
              "      <td>FT</td>\n",
              "      <td>Data Engineer</td>\n",
              "      <td>60000.0000</td>\n",
              "      <td>78526.0000</td>\n",
              "      <td>GB</td>\n",
              "      <td>GB</td>\n",
              "      <td>M</td>\n",
              "    </tr>\n",
              "    <tr>\n",
              "      <th>259</th>\n",
              "      <td>2022.0000</td>\n",
              "      <td>FT</td>\n",
              "      <td>Data Scientist</td>\n",
              "      <td>180000.0000</td>\n",
              "      <td>180000.0000</td>\n",
              "      <td>US</td>\n",
              "      <td>US</td>\n",
              "      <td>M</td>\n",
              "    </tr>\n",
              "    <tr>\n",
              "      <th>276</th>\n",
              "      <td>2022.0000</td>\n",
              "      <td>FT</td>\n",
              "      <td>Data Engineer</td>\n",
              "      <td>75000.0000</td>\n",
              "      <td>98158.0000</td>\n",
              "      <td>GB</td>\n",
              "      <td>GB</td>\n",
              "      <td>M</td>\n",
              "    </tr>\n",
              "    <tr>\n",
              "      <th>277</th>\n",
              "      <td>2022.0000</td>\n",
              "      <td>FT</td>\n",
              "      <td>Data Engineer</td>\n",
              "      <td>60000.0000</td>\n",
              "      <td>78526.0000</td>\n",
              "      <td>GB</td>\n",
              "      <td>GB</td>\n",
              "      <td>M</td>\n",
              "    </tr>\n",
              "    <tr>\n",
              "      <th>278</th>\n",
              "      <td>2022.0000</td>\n",
              "      <td>FT</td>\n",
              "      <td>Data Scientist</td>\n",
              "      <td>215300.0000</td>\n",
              "      <td>215300.0000</td>\n",
              "      <td>US</td>\n",
              "      <td>US</td>\n",
              "      <td>L</td>\n",
              "    </tr>\n",
              "    <tr>\n",
              "      <th>280</th>\n",
              "      <td>2022.0000</td>\n",
              "      <td>FT</td>\n",
              "      <td>Data Engineer</td>\n",
              "      <td>209100.0000</td>\n",
              "      <td>209100.0000</td>\n",
              "      <td>US</td>\n",
              "      <td>US</td>\n",
              "      <td>L</td>\n",
              "    </tr>\n",
              "    <tr>\n",
              "      <th>281</th>\n",
              "      <td>2022.0000</td>\n",
              "      <td>FT</td>\n",
              "      <td>Data Engineer</td>\n",
              "      <td>154600.0000</td>\n",
              "      <td>154600.0000</td>\n",
              "      <td>US</td>\n",
              "      <td>US</td>\n",
              "      <td>L</td>\n",
              "    </tr>\n",
              "    <tr>\n",
              "      <th>294</th>\n",
              "      <td>2022.0000</td>\n",
              "      <td>FT</td>\n",
              "      <td>Data Analyst</td>\n",
              "      <td>135000.0000</td>\n",
              "      <td>135000.0000</td>\n",
              "      <td>US</td>\n",
              "      <td>US</td>\n",
              "      <td>M</td>\n",
              "    </tr>\n",
              "    <tr>\n",
              "      <th>297</th>\n",
              "      <td>2022.0000</td>\n",
              "      <td>FT</td>\n",
              "      <td>Data Scientist</td>\n",
              "      <td>140000.0000</td>\n",
              "      <td>140000.0000</td>\n",
              "      <td>US</td>\n",
              "      <td>US</td>\n",
              "      <td>M</td>\n",
              "    </tr>\n",
              "    <tr>\n",
              "      <th>310</th>\n",
              "      <td>2022.0000</td>\n",
              "      <td>FT</td>\n",
              "      <td>Machine Learning Developer</td>\n",
              "      <td>100000.0000</td>\n",
              "      <td>78791.0000</td>\n",
              "      <td>CA</td>\n",
              "      <td>CA</td>\n",
              "      <td>M</td>\n",
              "    </tr>\n",
              "    <tr>\n",
              "      <th>328</th>\n",
              "      <td>2022.0000</td>\n",
              "      <td>FT</td>\n",
              "      <td>Data Analyst</td>\n",
              "      <td>135000.0000</td>\n",
              "      <td>135000.0000</td>\n",
              "      <td>US</td>\n",
              "      <td>US</td>\n",
              "      <td>M</td>\n",
              "    </tr>\n",
              "    <tr>\n",
              "      <th>330</th>\n",
              "      <td>2022.0000</td>\n",
              "      <td>FT</td>\n",
              "      <td>Data Analyst</td>\n",
              "      <td>90320.0000</td>\n",
              "      <td>90320.0000</td>\n",
              "      <td>US</td>\n",
              "      <td>US</td>\n",
              "      <td>M</td>\n",
              "    </tr>\n",
              "    <tr>\n",
              "      <th>333</th>\n",
              "      <td>2022.0000</td>\n",
              "      <td>FT</td>\n",
              "      <td>Data Analyst</td>\n",
              "      <td>112900.0000</td>\n",
              "      <td>112900.0000</td>\n",
              "      <td>US</td>\n",
              "      <td>US</td>\n",
              "      <td>M</td>\n",
              "    </tr>\n",
              "    <tr>\n",
              "      <th>334</th>\n",
              "      <td>2022.0000</td>\n",
              "      <td>FT</td>\n",
              "      <td>Data Engineer</td>\n",
              "      <td>155000.0000</td>\n",
              "      <td>155000.0000</td>\n",
              "      <td>US</td>\n",
              "      <td>US</td>\n",
              "      <td>M</td>\n",
              "    </tr>\n",
              "    <tr>\n",
              "      <th>337</th>\n",
              "      <td>2022.0000</td>\n",
              "      <td>FT</td>\n",
              "      <td>Data Analyst</td>\n",
              "      <td>115934.0000</td>\n",
              "      <td>115934.0000</td>\n",
              "      <td>US</td>\n",
              "      <td>US</td>\n",
              "      <td>M</td>\n",
              "    </tr>\n",
              "    <tr>\n",
              "      <th>338</th>\n",
              "      <td>2022.0000</td>\n",
              "      <td>FT</td>\n",
              "      <td>Data Analyst</td>\n",
              "      <td>81666.0000</td>\n",
              "      <td>81666.0000</td>\n",
              "      <td>US</td>\n",
              "      <td>US</td>\n",
              "      <td>M</td>\n",
              "    </tr>\n",
              "    <tr>\n",
              "      <th>342</th>\n",
              "      <td>2022.0000</td>\n",
              "      <td>FT</td>\n",
              "      <td>Data Engineer</td>\n",
              "      <td>115000.0000</td>\n",
              "      <td>115000.0000</td>\n",
              "      <td>US</td>\n",
              "      <td>US</td>\n",
              "      <td>M</td>\n",
              "    </tr>\n",
              "    <tr>\n",
              "      <th>344</th>\n",
              "      <td>2022.0000</td>\n",
              "      <td>FT</td>\n",
              "      <td>Data Engineer</td>\n",
              "      <td>130000.0000</td>\n",
              "      <td>130000.0000</td>\n",
              "      <td>US</td>\n",
              "      <td>US</td>\n",
              "      <td>M</td>\n",
              "    </tr>\n",
              "    <tr>\n",
              "      <th>348</th>\n",
              "      <td>2022.0000</td>\n",
              "      <td>FT</td>\n",
              "      <td>Data Scientist</td>\n",
              "      <td>140400.0000</td>\n",
              "      <td>140400.0000</td>\n",
              "      <td>US</td>\n",
              "      <td>US</td>\n",
              "      <td>L</td>\n",
              "    </tr>\n",
              "    <tr>\n",
              "      <th>352</th>\n",
              "      <td>2022.0000</td>\n",
              "      <td>FT</td>\n",
              "      <td>Data Engineer</td>\n",
              "      <td>160000.0000</td>\n",
              "      <td>160000.0000</td>\n",
              "      <td>US</td>\n",
              "      <td>US</td>\n",
              "      <td>M</td>\n",
              "    </tr>\n",
              "    <tr>\n",
              "      <th>361</th>\n",
              "      <td>2022.0000</td>\n",
              "      <td>FT</td>\n",
              "      <td>Data Analyst</td>\n",
              "      <td>170000.0000</td>\n",
              "      <td>170000.0000</td>\n",
              "      <td>US</td>\n",
              "      <td>US</td>\n",
              "      <td>M</td>\n",
              "    </tr>\n",
              "    <tr>\n",
              "      <th>364</th>\n",
              "      <td>2022.0000</td>\n",
              "      <td>FT</td>\n",
              "      <td>Data Scientist</td>\n",
              "      <td>140000.0000</td>\n",
              "      <td>140000.0000</td>\n",
              "      <td>US</td>\n",
              "      <td>US</td>\n",
              "      <td>M</td>\n",
              "    </tr>\n",
              "    <tr>\n",
              "      <th>366</th>\n",
              "      <td>2022.0000</td>\n",
              "      <td>FT</td>\n",
              "      <td>Data Scientist</td>\n",
              "      <td>140000.0000</td>\n",
              "      <td>140000.0000</td>\n",
              "      <td>US</td>\n",
              "      <td>US</td>\n",
              "      <td>M</td>\n",
              "    </tr>\n",
              "    <tr>\n",
              "      <th>367</th>\n",
              "      <td>2022.0000</td>\n",
              "      <td>FT</td>\n",
              "      <td>Data Analyst</td>\n",
              "      <td>100000.0000</td>\n",
              "      <td>100000.0000</td>\n",
              "      <td>US</td>\n",
              "      <td>US</td>\n",
              "      <td>M</td>\n",
              "    </tr>\n",
              "    <tr>\n",
              "      <th>370</th>\n",
              "      <td>2022.0000</td>\n",
              "      <td>FT</td>\n",
              "      <td>Data Scientist</td>\n",
              "      <td>140000.0000</td>\n",
              "      <td>140000.0000</td>\n",
              "      <td>US</td>\n",
              "      <td>US</td>\n",
              "      <td>M</td>\n",
              "    </tr>\n",
              "    <tr>\n",
              "      <th>371</th>\n",
              "      <td>2022.0000</td>\n",
              "      <td>FT</td>\n",
              "      <td>Data Scientist</td>\n",
              "      <td>109140.0000</td>\n",
              "      <td>210000.0000</td>\n",
              "      <td>US</td>\n",
              "      <td>US</td>\n",
              "      <td>M</td>\n",
              "    </tr>\n",
              "    <tr>\n",
              "      <th>373</th>\n",
              "      <td>2022.0000</td>\n",
              "      <td>FT</td>\n",
              "      <td>Data Engineer</td>\n",
              "      <td>100000.0000</td>\n",
              "      <td>100000.0000</td>\n",
              "      <td>US</td>\n",
              "      <td>US</td>\n",
              "      <td>M</td>\n",
              "    </tr>\n",
              "    <tr>\n",
              "      <th>375</th>\n",
              "      <td>2022.0000</td>\n",
              "      <td>FT</td>\n",
              "      <td>Data Analyst</td>\n",
              "      <td>126500.0000</td>\n",
              "      <td>126500.0000</td>\n",
              "      <td>US</td>\n",
              "      <td>US</td>\n",
              "      <td>M</td>\n",
              "    </tr>\n",
              "    <tr>\n",
              "      <th>376</th>\n",
              "      <td>2022.0000</td>\n",
              "      <td>FT</td>\n",
              "      <td>Data Analyst</td>\n",
              "      <td>106260.0000</td>\n",
              "      <td>106260.0000</td>\n",
              "      <td>US</td>\n",
              "      <td>US</td>\n",
              "      <td>M</td>\n",
              "    </tr>\n",
              "    <tr>\n",
              "      <th>377</th>\n",
              "      <td>2022.0000</td>\n",
              "      <td>FT</td>\n",
              "      <td>Data Engineer</td>\n",
              "      <td>220110.0000</td>\n",
              "      <td>220110.0000</td>\n",
              "      <td>US</td>\n",
              "      <td>US</td>\n",
              "      <td>M</td>\n",
              "    </tr>\n",
              "    <tr>\n",
              "      <th>378</th>\n",
              "      <td>2022.0000</td>\n",
              "      <td>FT</td>\n",
              "      <td>Data Engineer</td>\n",
              "      <td>160080.0000</td>\n",
              "      <td>160080.0000</td>\n",
              "      <td>US</td>\n",
              "      <td>US</td>\n",
              "      <td>M</td>\n",
              "    </tr>\n",
              "    <tr>\n",
              "      <th>383</th>\n",
              "      <td>2022.0000</td>\n",
              "      <td>FT</td>\n",
              "      <td>Data Analyst</td>\n",
              "      <td>99000.0000</td>\n",
              "      <td>99000.0000</td>\n",
              "      <td>US</td>\n",
              "      <td>US</td>\n",
              "      <td>M</td>\n",
              "    </tr>\n",
              "    <tr>\n",
              "      <th>385</th>\n",
              "      <td>2022.0000</td>\n",
              "      <td>FT</td>\n",
              "      <td>Data Scientist</td>\n",
              "      <td>230000.0000</td>\n",
              "      <td>230000.0000</td>\n",
              "      <td>US</td>\n",
              "      <td>US</td>\n",
              "      <td>M</td>\n",
              "    </tr>\n",
              "    <tr>\n",
              "      <th>386</th>\n",
              "      <td>2022.0000</td>\n",
              "      <td>FT</td>\n",
              "      <td>Data Scientist</td>\n",
              "      <td>150000.0000</td>\n",
              "      <td>150000.0000</td>\n",
              "      <td>US</td>\n",
              "      <td>US</td>\n",
              "      <td>M</td>\n",
              "    </tr>\n",
              "    <tr>\n",
              "      <th>389</th>\n",
              "      <td>2022.0000</td>\n",
              "      <td>FT</td>\n",
              "      <td>Data Scientist</td>\n",
              "      <td>210000.0000</td>\n",
              "      <td>210000.0000</td>\n",
              "      <td>US</td>\n",
              "      <td>US</td>\n",
              "      <td>M</td>\n",
              "    </tr>\n",
              "    <tr>\n",
              "      <th>390</th>\n",
              "      <td>2022.0000</td>\n",
              "      <td>FT</td>\n",
              "      <td>Data Analyst</td>\n",
              "      <td>170000.0000</td>\n",
              "      <td>170000.0000</td>\n",
              "      <td>US</td>\n",
              "      <td>US</td>\n",
              "      <td>M</td>\n",
              "    </tr>\n",
              "    <tr>\n",
              "      <th>399</th>\n",
              "      <td>2022.0000</td>\n",
              "      <td>FT</td>\n",
              "      <td>Data Analyst</td>\n",
              "      <td>67000.0000</td>\n",
              "      <td>67000.0000</td>\n",
              "      <td>CA</td>\n",
              "      <td>CA</td>\n",
              "      <td>M</td>\n",
              "    </tr>\n",
              "    <tr>\n",
              "      <th>400</th>\n",
              "      <td>2022.0000</td>\n",
              "      <td>FT</td>\n",
              "      <td>Data Analytics Manager</td>\n",
              "      <td>150260.0000</td>\n",
              "      <td>150260.0000</td>\n",
              "      <td>US</td>\n",
              "      <td>US</td>\n",
              "      <td>M</td>\n",
              "    </tr>\n",
              "  </tbody>\n",
              "</table>\n",
              "</div>"
            ],
            "text/plain": [
              "     work_year employment_type                   job_title      salary  \\\n",
              "104  2021.0000              FT              Data Scientist  76760.0000   \n",
              "130  2021.0000              FT               Data Engineer 200000.0000   \n",
              "172  2022.0000              FT               Data Engineer  40000.0000   \n",
              "189  2022.0000              FT                Data Analyst  90320.0000   \n",
              "190  2022.0000              FT                Data Analyst 112900.0000   \n",
              "191  2022.0000              FT                Data Analyst  90320.0000   \n",
              "193  2022.0000              FT               Data Engineer 132320.0000   \n",
              "208  2022.0000              FT              Data Scientist 123000.0000   \n",
              "209  2022.0000              FT               Data Engineer  60000.0000   \n",
              "215  2022.0000              FT                Data Analyst 130000.0000   \n",
              "216  2022.0000              FT                Data Analyst  61300.0000   \n",
              "222  2022.0000              FT              Data Scientist 123000.0000   \n",
              "224  2022.0000              FT               Data Engineer 165400.0000   \n",
              "230  2022.0000              FT               Data Engineer 132320.0000   \n",
              "233  2022.0000              FT                Data Analyst 112900.0000   \n",
              "234  2022.0000              FT                Data Analyst  90320.0000   \n",
              "246  2022.0000              FT                Data Analyst  58000.0000   \n",
              "254  2022.0000              FT               Data Engineer  60000.0000   \n",
              "259  2022.0000              FT              Data Scientist 180000.0000   \n",
              "276  2022.0000              FT               Data Engineer  75000.0000   \n",
              "277  2022.0000              FT               Data Engineer  60000.0000   \n",
              "278  2022.0000              FT              Data Scientist 215300.0000   \n",
              "280  2022.0000              FT               Data Engineer 209100.0000   \n",
              "281  2022.0000              FT               Data Engineer 154600.0000   \n",
              "294  2022.0000              FT                Data Analyst 135000.0000   \n",
              "297  2022.0000              FT              Data Scientist 140000.0000   \n",
              "310  2022.0000              FT  Machine Learning Developer 100000.0000   \n",
              "328  2022.0000              FT                Data Analyst 135000.0000   \n",
              "330  2022.0000              FT                Data Analyst  90320.0000   \n",
              "333  2022.0000              FT                Data Analyst 112900.0000   \n",
              "334  2022.0000              FT               Data Engineer 155000.0000   \n",
              "337  2022.0000              FT                Data Analyst 115934.0000   \n",
              "338  2022.0000              FT                Data Analyst  81666.0000   \n",
              "342  2022.0000              FT               Data Engineer 115000.0000   \n",
              "344  2022.0000              FT               Data Engineer 130000.0000   \n",
              "348  2022.0000              FT              Data Scientist 140400.0000   \n",
              "352  2022.0000              FT               Data Engineer 160000.0000   \n",
              "361  2022.0000              FT                Data Analyst 170000.0000   \n",
              "364  2022.0000              FT              Data Scientist 140000.0000   \n",
              "366  2022.0000              FT              Data Scientist 140000.0000   \n",
              "367  2022.0000              FT                Data Analyst 100000.0000   \n",
              "370  2022.0000              FT              Data Scientist 140000.0000   \n",
              "371  2022.0000              FT              Data Scientist 109140.0000   \n",
              "373  2022.0000              FT               Data Engineer 100000.0000   \n",
              "375  2022.0000              FT                Data Analyst 126500.0000   \n",
              "376  2022.0000              FT                Data Analyst 106260.0000   \n",
              "377  2022.0000              FT               Data Engineer 220110.0000   \n",
              "378  2022.0000              FT               Data Engineer 160080.0000   \n",
              "383  2022.0000              FT                Data Analyst  99000.0000   \n",
              "385  2022.0000              FT              Data Scientist 230000.0000   \n",
              "386  2022.0000              FT              Data Scientist 150000.0000   \n",
              "389  2022.0000              FT              Data Scientist 210000.0000   \n",
              "390  2022.0000              FT                Data Analyst 170000.0000   \n",
              "399  2022.0000              FT                Data Analyst  67000.0000   \n",
              "400  2022.0000              FT      Data Analytics Manager 150260.0000   \n",
              "\n",
              "     salary_in_usd employee_residence company_location company_size  \n",
              "104     90734.0000                 DE               DE            L  \n",
              "130    200000.0000                 US               US            L  \n",
              "172     52351.0000                 GB               GB            M  \n",
              "189     90320.0000                 US               US            M  \n",
              "190    112900.0000                 US               US            M  \n",
              "191     90320.0000                 US               US            M  \n",
              "193    132320.0000                 US               US            M  \n",
              "208    123000.0000                 US               US            M  \n",
              "209     78526.0000                 GB               GB            M  \n",
              "215    130000.0000                 CA               CA            M  \n",
              "216     61300.0000                 CA               CA            M  \n",
              "222    123000.0000                 US               US            M  \n",
              "224    165400.0000                 US               US            M  \n",
              "230    132320.0000                 US               US            M  \n",
              "233    112900.0000                 US               US            M  \n",
              "234     90320.0000                 US               US            M  \n",
              "246     58000.0000                 US               US            S  \n",
              "254     78526.0000                 GB               GB            M  \n",
              "259    180000.0000                 US               US            M  \n",
              "276     98158.0000                 GB               GB            M  \n",
              "277     78526.0000                 GB               GB            M  \n",
              "278    215300.0000                 US               US            L  \n",
              "280    209100.0000                 US               US            L  \n",
              "281    154600.0000                 US               US            L  \n",
              "294    135000.0000                 US               US            M  \n",
              "297    140000.0000                 US               US            M  \n",
              "310     78791.0000                 CA               CA            M  \n",
              "328    135000.0000                 US               US            M  \n",
              "330     90320.0000                 US               US            M  \n",
              "333    112900.0000                 US               US            M  \n",
              "334    155000.0000                 US               US            M  \n",
              "337    115934.0000                 US               US            M  \n",
              "338     81666.0000                 US               US            M  \n",
              "342    115000.0000                 US               US            M  \n",
              "344    130000.0000                 US               US            M  \n",
              "348    140400.0000                 US               US            L  \n",
              "352    160000.0000                 US               US            M  \n",
              "361    170000.0000                 US               US            M  \n",
              "364    140000.0000                 US               US            M  \n",
              "366    140000.0000                 US               US            M  \n",
              "367    100000.0000                 US               US            M  \n",
              "370    140000.0000                 US               US            M  \n",
              "371    210000.0000                 US               US            M  \n",
              "373    100000.0000                 US               US            M  \n",
              "375    126500.0000                 US               US            M  \n",
              "376    106260.0000                 US               US            M  \n",
              "377    220110.0000                 US               US            M  \n",
              "378    160080.0000                 US               US            M  \n",
              "383     99000.0000                 US               US            M  \n",
              "385    230000.0000                 US               US            M  \n",
              "386    150000.0000                 US               US            M  \n",
              "389    210000.0000                 US               US            M  \n",
              "390    170000.0000                 US               US            M  \n",
              "399     67000.0000                 CA               CA            M  \n",
              "400    150260.0000                 US               US            M  "
            ]
          },
          "execution_count": 63,
          "metadata": {},
          "output_type": "execute_result"
        }
      ],
      "source": [
        "df[df.duplicated()]"
      ]
    },
    {
      "cell_type": "code",
      "execution_count": 64,
      "metadata": {
        "id": "ntArgvChkK26"
      },
      "outputs": [
        {
          "name": "stdout",
          "output_type": "stream",
          "text": [
            "55\n"
          ]
        }
      ],
      "source": [
        "print(df.duplicated().sum())"
      ]
    },
    {
      "cell_type": "code",
      "execution_count": 65,
      "metadata": {},
      "outputs": [
        {
          "name": "stdout",
          "output_type": "stream",
          "text": [
            "0\n"
          ]
        }
      ],
      "source": [
        "df = df.drop_duplicates().reset_index(drop = True)\n",
        "print(df.duplicated().sum())"
      ]
    },
    {
      "cell_type": "markdown",
      "metadata": {},
      "source": [
        "---\n",
        "\n",
        "**Пояснение:**\\\n",
        "```df.duplicated()```\\\n",
        "Эта команда проверяет, есть ли дубликаты строк в таблице.\n",
        "Возвращает колонку из True и False:\n",
        "- True - строка является дубликатом (повторяется),\n",
        "- False - уникальная строка.\n",
        "\n",
        "```print(df.duplicated().sum())```\\\n",
        "Команда выводит на экран количество строк-дубликатов\n",
        "\n",
        "```df = df.drop_duplicates().reset_index(drop = True)```\\\n",
        "Команда удаляет дубликаты и обновляет индексы строк (чтобы потом при обращении к строкам не было пропусков в номерах).\n",
        "\n",
        "---"
      ]
    },
    {
      "cell_type": "markdown",
      "metadata": {
        "id": "VeHTMcOmkLSw"
      },
      "source": [
        "#### Проверка неявных дубликатов"
      ]
    },
    {
      "cell_type": "code",
      "execution_count": 66,
      "metadata": {
        "id": "-uOPKHlVlGo8"
      },
      "outputs": [
        {
          "name": "stdout",
          "output_type": "stream",
          "text": [
            "work_year \n",
            " [2020. 2021. 2022.]\n",
            "employment_type \n",
            " ['FT' 'PT' 'FL']\n",
            "job_title \n",
            " ['Data SCIENTIST' 'Product Data Analyst' 'Data Analyst' 'Data Scientist'\n",
            " 'Data Engineer' 'Machine Learning Manager' 'Data Analytics Engineer'\n",
            " 'Data Science Engineer' 'Machine Learning Developer'\n",
            " 'Data Analytics Manager' 'Head of Data Science'\n",
            " 'Head of Machine Learning' 'NLP Engineer' 'Data Analytics Lead'\n",
            " 'DataScientist' 'Data AnalyticsManager']\n",
            "employee_residence \n",
            " ['DE' 'HN' 'US' 'HU' 'FR' 'IN' 'PK' 'JP' 'GR' 'MX' 'CA' 'AT' 'NG' 'PH'\n",
            " 'GB' 'ES' 'IT' 'PL' 'BG' 'NL' 'IQ' 'UA' 'SG' 'RU' 'MT' 'CL' 'RO' 'IR'\n",
            " 'VN' 'BR' 'HK' 'TR' 'RS' 'AR' 'DZ' 'AU' 'CH']\n",
            "company_location \n",
            " ['DE' 'HN' 'US' 'HU' 'FR' 'IN' 'PK' 'JP' 'GR' 'MX' 'CA' 'AT' 'NG' 'GB'\n",
            " 'ES' 'IT' 'LU' 'PL' 'NL' 'IQ' 'UA' 'IL' 'RU' 'MT' 'CL' 'IR' 'BR' 'VN'\n",
            " 'TR' 'DZ' 'MY' 'AU' 'CH']\n",
            "company_size \n",
            " ['L' 'S' 'M' 'Large']\n"
          ]
        }
      ],
      "source": [
        "unique_c = ['work_year', 'employment_type', 'job_title', 'employee_residence', 'company_location', 'company_size']\n",
        "for i in unique_c:\n",
        "  print(i,'\\n', df[i].unique())"
      ]
    },
    {
      "cell_type": "code",
      "execution_count": 67,
      "metadata": {
        "id": "89tMFEQ2k_M7"
      },
      "outputs": [
        {
          "name": "stdout",
          "output_type": "stream",
          "text": [
            "work_year\n",
            "2022.0000    201\n",
            "2021.0000    103\n",
            "2020.0000     42\n",
            "Name: count, dtype: int64\n",
            "employment_type\n",
            "FT    339\n",
            "PT      5\n",
            "FL      2\n",
            "Name: count, dtype: int64\n",
            "job_title\n",
            "Data Scientist                126\n",
            "Data Engineer                 114\n",
            "Data Analyst                   77\n",
            "Data Analytics Manager          6\n",
            "Head of Data Science            4\n",
            "Data Analytics Engineer         4\n",
            "Data Science Engineer           3\n",
            "Product Data Analyst            2\n",
            "Machine Learning Developer      2\n",
            "DataScientist                   2\n",
            "Machine Learning Manager        1\n",
            "Data SCIENTIST                  1\n",
            "Head of Machine Learning        1\n",
            "NLP Engineer                    1\n",
            "Data Analytics Lead             1\n",
            "Data AnalyticsManager           1\n",
            "Name: count, dtype: int64\n",
            "employee_residence\n",
            "US    199\n",
            "GB     29\n",
            "CA     16\n",
            "IN     14\n",
            "FR     12\n",
            "ES     11\n",
            "GR     10\n",
            "DE     10\n",
            "PK      4\n",
            "TR      3\n",
            "RO      2\n",
            "BR      2\n",
            "JP      2\n",
            "NG      2\n",
            "AT      2\n",
            "IT      2\n",
            "PL      2\n",
            "NL      2\n",
            "VN      2\n",
            "RU      2\n",
            "MX      2\n",
            "HU      1\n",
            "HN      1\n",
            "PH      1\n",
            "BG      1\n",
            "IQ      1\n",
            "SG      1\n",
            "MT      1\n",
            "UA      1\n",
            "IR      1\n",
            "CL      1\n",
            "HK      1\n",
            "RS      1\n",
            "AR      1\n",
            "DZ      1\n",
            "AU      1\n",
            "CH      1\n",
            "Name: count, dtype: int64\n",
            "company_location\n",
            "US    209\n",
            "GB     32\n",
            "CA     15\n",
            "IN     13\n",
            "DE     12\n",
            "FR     11\n",
            "ES     10\n",
            "GR      9\n",
            "MX      3\n",
            "AT      3\n",
            "TR      3\n",
            "PK      2\n",
            "NG      2\n",
            "PL      2\n",
            "NL      2\n",
            "JP      1\n",
            "HN      1\n",
            "LU      1\n",
            "IT      1\n",
            "HU      1\n",
            "IQ      1\n",
            "IL      1\n",
            "RU      1\n",
            "MT      1\n",
            "UA      1\n",
            "CL      1\n",
            "IR      1\n",
            "BR      1\n",
            "VN      1\n",
            "DZ      1\n",
            "MY      1\n",
            "AU      1\n",
            "CH      1\n",
            "Name: count, dtype: int64\n",
            "company_size\n",
            "M        209\n",
            "L         99\n",
            "S         37\n",
            "Large      1\n",
            "Name: count, dtype: int64\n"
          ]
        }
      ],
      "source": [
        "for i in unique_c:\n",
        "  print(df[i].value_counts())"
      ]
    },
    {
      "cell_type": "code",
      "execution_count": 68,
      "metadata": {
        "id": "GMcnDpOmlKhU"
      },
      "outputs": [
        {
          "name": "stdout",
          "output_type": "stream",
          "text": [
            "company_size\n",
            "M    209\n",
            "L    100\n",
            "S     37\n",
            "Name: count, dtype: int64\n",
            "job_title\n",
            "Data Scientist                129\n",
            "Data Engineer                 114\n",
            "Data Analyst                   77\n",
            "Data Analytics Manager          7\n",
            "Data Analytics Engineer         4\n",
            "Head of Data Science            4\n",
            "Data Science Engineer           3\n",
            "Machine Learning Developer      2\n",
            "Product Data Analyst            2\n",
            "Machine Learning Manager        1\n",
            "Head of Machine Learning        1\n",
            "NLP Engineer                    1\n",
            "Data Analytics Lead             1\n",
            "Name: count, dtype: int64\n"
          ]
        }
      ],
      "source": [
        "# Мы видим, что в нашем дата сете есть неявные дубликаты, а именно строки, в которых профессия Data Scientist написана не верно\n",
        "# Соберём список неверных названий этой профессии\n",
        "listt = 'Data SCIENTIST', 'DataScientist'\n",
        "# Для замены пропишем следующее: \n",
        "for correct in listt:\n",
        "    df['job_title'] = df['job_title'].replace(correct, 'Data Scientist')\n",
        "\n",
        "listtt = 'Data SCIENTIST', 'DataScientist'\n",
        "# Для замены пропишем следующее: \n",
        "df['job_title'] = df['job_title'].replace('Data AnalyticsManager', 'Data Analytics Manager')\n",
        "\n",
        "# Так же дублируется размер компании L по аналогии произведём замену\n",
        "df['company_size'] = df['company_size'].replace('Large', 'L')\n",
        "\n",
        "# Данный код выполнил замену всех некорректных значений полей на корректные\n",
        "# Выведем количество уникальных значений\n",
        "\n",
        "print(df['company_size'].value_counts())\n",
        "print(df['job_title'].value_counts())"
      ]
    },
    {
      "cell_type": "markdown",
      "metadata": {},
      "source": [
        "---\n",
        "\n",
        "**Пояснение:**\\\n",
        "В данных обнаружены ошибки и неявные дубликаты:\\\n",
        "```job_title``` - опечатки \"Data SCIENTIST\" и \"DataScientist\";\n",
        "\n",
        "Эти проблемы нужно исправить на этапе предобработки, чтобы анализ был корректным.\n",
        "\n",
        "Все опечатки исправлены.\\\n",
        "Данные приведены к корректному виду, теперь с ними можно уверенно работать дальше: строить группировки, сводные таблицы и анализировать.\n",
        "\n",
        "\n",
        " ---"
      ]
    },
    {
      "cell_type": "markdown",
      "metadata": {
        "id": "md9GhfYMlbi7"
      },
      "source": [
        "### 5. Провека типов данных"
      ]
    },
    {
      "cell_type": "code",
      "execution_count": 69,
      "metadata": {
        "id": "lXTroENaluCW"
      },
      "outputs": [
        {
          "data": {
            "text/plain": [
              "work_year             float64\n",
              "employment_type        object\n",
              "job_title              object\n",
              "salary                float64\n",
              "salary_in_usd         float64\n",
              "employee_residence     object\n",
              "company_location       object\n",
              "company_size           object\n",
              "dtype: object"
            ]
          },
          "execution_count": 69,
          "metadata": {},
          "output_type": "execute_result"
        }
      ],
      "source": [
        "df.dtypes"
      ]
    },
    {
      "cell_type": "markdown",
      "metadata": {},
      "source": [
        "---\n",
        "\n",
        "**Пояснение:**\n",
        "\n",
        "```work_year```- ```float64``` \n",
        "Год выплат хранится вещественным числом, а должен как целое - ```int64```.\n",
        "\n",
        "```employment_type``` - ```object```\n",
        "Тип работы хранится как строка - верно.\n",
        "\n",
        "```job_title``` - ```object```\n",
        "Тип работы хранится как строка - верно.\n",
        "\n",
        "```salary``` - ```float64```\n",
        "Зарплата за год хранится вещественным числом, а должен как целое - ```int64```.\n",
        "\n",
        "```salary_in_usd``` - ```float64```\n",
        "Зарплата в долларах хранится вещественным числом, а должен как целое - ```int64```.\n",
        "\n",
        "```employee_residence``` - ```object```\n",
        "Тип работы хранится как строка - верно.\n",
        "\n",
        "```company_location``` - ```object```\n",
        "Тип работы хранится как строка - верно.\n",
        "\n",
        "```company_size``` - ```object```\n",
        "Тип работы хранится как строка - верно.\n",
        "\n",
        "Изменим неверные типы данных.\n",
        "\n",
        "---"
      ]
    },
    {
      "cell_type": "code",
      "execution_count": 70,
      "metadata": {
        "id": "WXhXgu29lop3"
      },
      "outputs": [
        {
          "data": {
            "text/plain": [
              "work_year              int64\n",
              "employment_type       object\n",
              "job_title             object\n",
              "salary                 int64\n",
              "salary_in_usd          int64\n",
              "employee_residence    object\n",
              "company_location      object\n",
              "company_size          object\n",
              "dtype: object"
            ]
          },
          "execution_count": 70,
          "metadata": {},
          "output_type": "execute_result"
        }
      ],
      "source": [
        "df['work_year'] = df['work_year'].astype(int)\n",
        "df['salary'] = df['salary'].astype(int)\n",
        "df['salary_in_usd'] = df['salary_in_usd'].astype(int)\n",
        "df.dtypes"
      ]
    },
    {
      "cell_type": "markdown",
      "metadata": {
        "id": "DPDBNN4dlx7W"
      },
      "source": [
        "---\n",
        "\n",
        "**Пояснение:**\\\n",
        "Изменения внесены верно.\n",
        "\n",
        " ---"
      ]
    },
    {
      "cell_type": "markdown",
      "metadata": {
        "id": "lzr0SgqlnmHy"
      },
      "source": [
        "### 6. Группировка данных"
      ]
    },
    {
      "cell_type": "markdown",
      "metadata": {
        "id": "QG_dbwzfmZoS"
      },
      "source": [
        "#### Задание 1"
      ]
    },
    {
      "cell_type": "markdown",
      "metadata": {
        "id": "CyCKTB4DmciW"
      },
      "source": [
        "`Группировка - “employment_type” и количество каждой локации “company_location”.`"
      ]
    },
    {
      "cell_type": "code",
      "execution_count": 71,
      "metadata": {
        "id": "tp8Bl1gumYlI"
      },
      "outputs": [
        {
          "name": "stdout",
          "output_type": "stream",
          "text": [
            "employment_type  company_location\n",
            "FL               US                    2\n",
            "FT               AT                    3\n",
            "                 AU                    1\n",
            "                 BR                    1\n",
            "                 CA                   15\n",
            "                 CH                    1\n",
            "                 CL                    1\n",
            "                 DE                   11\n",
            "                 ES                    9\n",
            "                 FR                   11\n",
            "                 GB                   32\n",
            "                 GR                    9\n",
            "                 HN                    1\n",
            "                 HU                    1\n",
            "                 IL                    1\n",
            "                 IN                   13\n",
            "                 IQ                    1\n",
            "                 IR                    1\n",
            "                 JP                    1\n",
            "                 LU                    1\n",
            "                 MT                    1\n",
            "                 MX                    3\n",
            "                 MY                    1\n",
            "                 NG                    2\n",
            "                 NL                    1\n",
            "                 PK                    2\n",
            "                 PL                    2\n",
            "                 RU                    1\n",
            "                 TR                    3\n",
            "                 UA                    1\n",
            "                 US                  207\n",
            "                 VN                    1\n",
            "PT               DE                    1\n",
            "                 DZ                    1\n",
            "                 ES                    1\n",
            "                 IT                    1\n",
            "                 NL                    1\n",
            "Name: company_location, dtype: int64\n"
          ]
        }
      ],
      "source": [
        "print(df.groupby(['employment_type', 'company_location'], observed=True)['company_location'].count())"
      ]
    },
    {
      "cell_type": "markdown",
      "metadata": {
        "id": "quMr70SmnMXS"
      },
      "source": [
        "---\n",
        "\n",
        "**Пояснение:**\\\n",
        "Была проведена группировка клиентов по типу работы и стране главного офиса.\\\n",
        "Большая часть сотрудников устроены на полную ставку;\\\n",
        "Полная занятость ```FT``` наиболее распространена в США (207 записей);\\\n",
        "Частичная занятость ```PT``` встречается реже и в меньшем количестве стран;\\\n",
        "Фриланс ```FL``` представлен только в США.\n",
        "\n",
        "---"
      ]
    },
    {
      "cell_type": "markdown",
      "metadata": {
        "id": "j0isGCzEne7a"
      },
      "source": [
        "#### Задание 2"
      ]
    },
    {
      "cell_type": "markdown",
      "metadata": {
        "id": "kE2vLBWbne7a"
      },
      "source": [
        "`Группировка - “work_year” и количество компаний каждого размера.\n",
        "Создать датафрейм. Переименовать столбец с количеством в “сount”.\n",
        "Отсортировать по убыванию столбца “count”`"
      ]
    },
    {
      "cell_type": "code",
      "execution_count": 72,
      "metadata": {
        "id": "ttn78Zaene7a"
      },
      "outputs": [
        {
          "name": "stdout",
          "output_type": "stream",
          "text": [
            "   work_year company_size  count\n",
            "7       2022            M    174\n",
            "3       2021            L     55\n",
            "4       2021            M     30\n",
            "6       2022            L     23\n",
            "0       2020            L     22\n",
            "5       2021            S     18\n",
            "2       2020            S     15\n",
            "1       2020            M      5\n",
            "8       2022            S      4\n"
          ]
        }
      ],
      "source": [
        "# Посчитать количество строк в каждой группе (группа = комбинация work_year + company_size)\n",
        "counts = df.groupby(['work_year', 'company_size'], observed=True).size()\n",
        "# Превратить результат в DataFrame\n",
        "df_group = counts.reset_index()\n",
        "# Переименовать колонку с количеством в \"count\"\n",
        "df_group.columns = ['work_year', 'company_size', 'count']\n",
        "# Отсортировать по убыванию столбца count\n",
        "df_group = df_group.sort_values(by='count', ascending=False)\n",
        "# Посмотреть результат\n",
        "print(df_group)"
      ]
    },
    {
      "cell_type": "markdown",
      "metadata": {
        "id": "NKLZ0m7Nne7b"
      },
      "source": [
        "---\n",
        "\n",
        "**Пояснение:**\\\n",
        "В 2022 году было больше всего записей, что может указывать на рост рынка труда в Data-сфере.\n",
        "\n",
        "Средние компании (M) в 2022 году были наиболее активны в найме (174 записей).\n",
        "\n",
        "Крупные компании (L) показывают рост с 2020 по 2021 год и падение с 2021 по 2022, что может являться последствием после карантинного кризиса кризиса.\n",
        "\n",
        "В 2020 году количество записей значительно меньше, что может быть связано с карантином.\n",
        "\n",
        "Таким образом, наблюдается положительная динамика количества вакансий/работников в Data-сфере с 2020 по 2022 год,\\\n",
        "причем средние компании проявляют наибольшую активность в найме.\n",
        "\n",
        " ---"
      ]
    },
    {
      "cell_type": "markdown",
      "metadata": {
        "id": "_3fHGp64nhUJ"
      },
      "source": [
        "#### Задание 3"
      ]
    },
    {
      "cell_type": "markdown",
      "metadata": {
        "id": "_Bc4ehyKnhUJ"
      },
      "source": [
        "`Сводная таблица (pivot_table) - средняя зарплата в usd по должностям\n",
        "(”job_title”). Отсортировать по убыванию. Округлить до двух знаков после запятой.\n",
        "Переименовать столбец “salary_in_usd” в “зарплата”`"
      ]
    },
    {
      "cell_type": "code",
      "execution_count": 73,
      "metadata": {
        "id": "siDovPvQnhUJ"
      },
      "outputs": [
        {
          "name": "stdout",
          "output_type": "stream",
          "text": [
            "                            зарплата\n",
            "job_title                           \n",
            "Data Analytics Lead        405000.00\n",
            "Head of Data Science       146718.75\n",
            "Data Analytics Manager     127134.29\n",
            "Machine Learning Manager   117104.00\n",
            "Data Engineer              109295.46\n",
            "Data Scientist             102623.46\n",
            "Machine Learning Developer  89395.50\n",
            "Data Analyst                88597.23\n",
            "Head of Machine Learning    79039.00\n",
            "Data Science Engineer       75803.33\n",
            "Data Analytics Engineer     64799.25\n",
            "NLP Engineer                37236.00\n",
            "Product Data Analyst        13036.00\n"
          ]
        }
      ],
      "source": [
        "data_pivot = df.pivot_table(\n",
        "    # строки - должность\n",
        "    index = 'job_title',\n",
        "    # значения - зарплата в долларах\n",
        "    values = 'salary_in_usd',\n",
        "    # функция - среднее значение\n",
        "    aggfunc='mean',\n",
        "    # показывать только существующее\n",
        "    observed=True\n",
        ")\n",
        "# сортировка по убыванию\n",
        "data_pivot = data_pivot.sort_values(by='salary_in_usd', ascending=False)\n",
        "# округление до 2х знаков после запятой\n",
        "data_pivot['salary_in_usd'] = data_pivot['salary_in_usd'].round(2)\n",
        "# переименование столбца в \"зарплата\"\n",
        "data_pivot.columns = ['зарплата']\n",
        "# изменение ранее изменённого отображения до 2х знаков после запятой\n",
        "pd.set_option('display.float_format', '{:.2f}'.format)\n",
        "\n",
        "print(data_pivot)"
      ]
    },
    {
      "cell_type": "markdown",
      "metadata": {
        "id": "wKFm0zDenhUK"
      },
      "source": [
        "---\n",
        "\n",
        "**Пояснение:**\\\n",
        "Данная сводная таблица позволяет отметить самые высокооплачиваемые работы в сфере аналитики данных.\\\n",
        "Исходя из нашего дата сета, это должность \"Ведущий специалист по анализу данных\" со средней зарплатой 405000 $.\n",
        "\n",
        "---"
      ]
    },
    {
      "cell_type": "markdown",
      "metadata": {
        "id": "FOlw74xCniNo"
      },
      "source": [
        "#### Задание 4"
      ]
    },
    {
      "cell_type": "markdown",
      "metadata": {
        "id": "4tvYwT25niNq"
      },
      "source": [
        "`Сводная таблица (pivot_table) - медианная зарплата по годам - строки,\n",
        "и по “employment_type” - столбцы. Отсортировать по убыванию годов.`"
      ]
    },
    {
      "cell_type": "code",
      "execution_count": 74,
      "metadata": {
        "id": "TfJ719g6niNq"
      },
      "outputs": [
        {
          "name": "stdout",
          "output_type": "stream",
          "text": [
            "employment_type        FL        FT       PT\n",
            "work_year                                   \n",
            "2022            100000.00 168449.66 75000.00\n",
            "2021             20000.00 516093.61 33880.00\n",
            "2020                  NaN 561258.78 19000.00\n"
          ]
        }
      ],
      "source": [
        "data_pivot1 = df.pivot_table(\n",
        "    # строки - год\n",
        "    index = 'work_year',\n",
        "    # столбцы - тип работы\n",
        "    columns = 'employment_type',\n",
        "    # значения - зарплата за год\n",
        "    values = 'salary',\n",
        "    # функция - среднее значение\n",
        "    aggfunc='mean',\n",
        "    # показывать только существующее\n",
        "    observed=True\n",
        ")\n",
        "\n",
        "# сортировка по убыванию года\n",
        "data_pivot1 = data_pivot1.sort_values(by='work_year', ascending=False)\n",
        "\n",
        "print(data_pivot1)"
      ]
    },
    {
      "cell_type": "markdown",
      "metadata": {
        "id": "tIkuqJKUniNs"
      },
      "source": [
        "---\n",
        "\n",
        "**Пояснения:**\\\n",
        "Данная таблица позволяет понять, на сколько средняя зарплата менялась за каждый год при разном типе работы.\\\n",
        "Например больше всего получали специалисты с сфере анализа данных в 2020м году при полном трудоустройстве.\\\n",
        "Можно сделать вывод что специалисты, устроенные при полном устройстве, получают с каждым годом всё меньше,\\\n",
        "в то время, как специалисты с неполным - с каждым годом всё больше.\\\n",
        "Так же из этой таблицы можно понять, что в 2020 годы не было зафиксированного ни одного трудоустройства на фрилансе.\n",
        "\n",
        "\n",
        " ---"
      ]
    },
    {
      "cell_type": "markdown",
      "metadata": {
        "id": "TpnXb6gip3S8"
      },
      "source": [
        "### Вывод"
      ]
    },
    {
      "cell_type": "markdown",
      "metadata": {
        "id": "nqLa096jM1Z8"
      },
      "source": [
        "\n",
        "В ходе работы рассматривался набор данных ```salary.csv```, содержащий информацию о специалистах с сфере аналитики данных и их заработных платах. Всего было рассмотрена  401 строка данных. Данные включают себя годы выплаты ЗП, тип трудоустройства сотрудников, должность, зарплату, страну приживания и нахождения главного офиса, а также кол-во сотрудников в компании.\n",
        "На этапе предобработки были выявлены и устранены ошибки: некорректный тип данных ```float64``` столбцов годы выплаты, зарплата за год и зарплата в долларах были заменены на ```int64```; опечатки в полях должность и размере компаний были исправлены («DataScientist» и «Data SCIENTIST» на «Data Scientist», Large на «L»). Пропуски в числовых данных были заполнены медианными значениями.\n",
        "\n",
        "Анализ показал, что наибольшую зарплату получали сотрудники, устроенные при полном трудоустройстве в 2020м году - 561 258$. Большая часть сотрудников устроены на полную ставку. А страной с самым большим числом сотрудников стала Северная Америка - 209 шт.\n",
        "\n",
        "Построенные сводные таблицы показали динамику изменения зарплат сотрудников в каждом году, специалисты с полным трудоустроенные получают с каждым готом всё меньше, а с неполным - всё больше. А самой высокооплачиваемой должностью стала должность «Ведущий специалист по анализу данных» - 405 000$.\n",
        "\n",
        "Приведённое исследование показало наглядно темпы развития сферы анализа данных, с каждым годом количество сотрудников в этой сфере растёт.\n",
        "\n",
        "В лабораторной работе осуществлялась работа с библиотекой ```pandas```. Были изучены типы данных в библиотеке, индексация и др. На практике были произведены подготовка данных, устранение ошибок и дубликатов, обработка различных типов данных. Были изучены такие понятия как группировка и категоризация."
      ]
    },
    {
      "cell_type": "markdown",
      "metadata": {
        "id": "Sn3y7og_vjGG"
      },
      "source": [
        "### Дополнительное задание"
      ]
    },
    {
      "cell_type": "markdown",
      "metadata": {
        "id": "rR6WgHXYvlqD"
      },
      "source": [
        "**`Доп задание: заменить NaN на 0 в выводе 4го задания`**"
      ]
    },
    {
      "cell_type": "code",
      "execution_count": 75,
      "metadata": {
        "id": "wG5TGQpevlBq"
      },
      "outputs": [
        {
          "name": "stdout",
          "output_type": "stream",
          "text": [
            "employment_type        FL        FT       PT\n",
            "work_year                                   \n",
            "2022            100000.00 168449.66 75000.00\n",
            "2021             20000.00 516093.61 33880.00\n",
            "2020                 0.00 561258.78 19000.00\n"
          ]
        }
      ],
      "source": [
        "data_pivot1 = df.pivot_table(\n",
        "    # строки - год\n",
        "    index = 'work_year',\n",
        "    # столбцы - тип работы\n",
        "    columns = 'employment_type',\n",
        "    # значения - зарплата за год\n",
        "    values = 'salary',\n",
        "    # функция - среднее значение\n",
        "    aggfunc='mean',\n",
        "    # показывать только существующее\n",
        "    observed=True\n",
        ")\n",
        "\n",
        "# сортировка по убыванию года\n",
        "data_pivot1 = data_pivot1.sort_values(by='work_year', ascending=False).fillna(0)\n",
        "\n",
        "print(data_pivot1)"
      ]
    },
    {
      "cell_type": "markdown",
      "metadata": {
        "id": "y-qpTuhTvon3"
      },
      "source": [
        "---\n",
        "\n",
        "**Пояснение:**\\\n",
        "Метод ```.fillna(0)``` заменил NaN на 0.00\n",
        "\n",
        "---"
      ]
    },
    {
      "cell_type": "markdown",
      "metadata": {},
      "source": [
        "**`6. Создать столбец “Категория зарплаты в долларах” (с помощью\n",
        "категоризации). Выделить минимум 3 категории (низкая, высокая, средняя),\n",
        "фильтрацию для уровня зарплаты выбрать самостоятельно, аргументировать\n",
        "выбор. Создать сводную таблицу: минимальная и максимальная зп в долларах\n",
        "по категории зарплаты в долларах и должности. \n",
        "`**"
      ]
    },
    {
      "cell_type": "code",
      "execution_count": 76,
      "metadata": {},
      "outputs": [
        {
          "name": "stdout",
          "output_type": "stream",
          "text": [
            "Категория зарплаты в долларах                  job_title  Минимальная ЗП  Максимальная ЗП\n",
            "                      высокая               Data Analyst          150075           200000\n",
            "                      высокая        Data Analytics Lead          405000           405000\n",
            "                      высокая     Data Analytics Manager          150260           150260\n",
            "                      высокая              Data Engineer          154000           324000\n",
            "                      высокая             Data Scientist          158200           412000\n",
            "                      высокая       Head of Data Science          167875           224000\n",
            "                       низкая               Data Analyst            6072            46759\n",
            "                       низкая    Data Analytics Engineer           20000            20000\n",
            "                       низкая              Data Engineer            4000            49461\n",
            "                       низкая      Data Science Engineer           40189            40189\n",
            "                       низкая             Data Scientist            2859            49646\n",
            "                       низкая               NLP Engineer           37236            37236\n",
            "                       низкая       Product Data Analyst            6072            20000\n",
            "                      средняя               Data Analyst           50000           150000\n",
            "                      средняя    Data Analytics Engineer           50000           110000\n",
            "                      средняя     Data Analytics Manager          105400           145000\n",
            "                      средняя              Data Engineer           52351           150000\n",
            "                      средняя      Data Science Engineer           60000           127221\n",
            "                      средняя             Data Scientist           50000           150000\n",
            "                      средняя       Head of Data Science           85000           110000\n",
            "                      средняя   Head of Machine Learning           79039            79039\n",
            "                      средняя Machine Learning Developer           78791           100000\n",
            "                      средняя   Machine Learning Manager          117104           117104\n"
          ]
        }
      ],
      "source": [
        "\n",
        "def categorize_salary(salary):\n",
        "    if salary < 50000:\n",
        "        return \"низкая\"\n",
        "    elif 50000 <= salary <= 150000:\n",
        "        return \"средняя\"\n",
        "    else:\n",
        "        return \"высокая\"\n",
        "\n",
        "df['Категория зарплаты в долларах'] = df['salary_in_usd'].apply(categorize_salary)\n",
        "\n",
        "# Строим сводную таблицу: минимальная и максимальная зп в долларах\n",
        "pivot_salary = df.pivot_table(\n",
        "    index=['Категория зарплаты в долларах', 'job_title'],\n",
        "    values='salary_in_usd',\n",
        "    aggfunc=['min', 'max'],\n",
        "    observed=True\n",
        ")\n",
        "\n",
        "# Красивее сделаем колонки\n",
        "pivot_salary.columns = ['Минимальная ЗП', 'Максимальная ЗП']\n",
        "pivot_salary = pivot_salary.reset_index()\n",
        "\n",
        "print(pivot_salary.to_string(index=False)) # to_string(index=False) для того, чтобы поле максимальной ЗП не отделялось на следющую строку"
      ]
    },
    {
      "cell_type": "markdown",
      "metadata": {},
      "source": [
        "---\n",
        "\n",
        "**Пояснение:**\\\n",
        "Медиана заплат составила 100 000$, значит эту сумму следует поместить в категорию среднего уровня дохода.\n",
        "исходя из общего размера зарплат, категории были выбраны следующие:\n",
        "- низкая — меньше 50 000$;\n",
        "- средняя — от 50 000 до 150 000$;\n",
        "- высокая — больше 150 000$.\n",
        "\n",
        "Низкая категория – сюда вошли должности с минимальными значениями заработной платы. Для таких должностей диапазон зарплат относительно узкий, что говорит об ограниченных возможностях роста дохода внутри категории.\n",
        "\n",
        "Средняя категория – в этой группе наблюдается наибольшее количество должностей. Диапазон между минимальными и максимальными зарплатами заметно шире, что отражает вариативность оплаты в зависимости от опыта, квалификации и специфики компании.\n",
        "\n",
        "Высокая категория – включает должности управленческого уровня или высококвалифицированных специалистов. Здесь максимальные зарплаты значительно превышают значения из других категорий, а разброс внутри категории также выше, что указывает на гибкую систему оплаты и большие перспективы карьерного роста.\n",
        "\n",
        "В целом, сводная таблица позволяет оценить уровень распределения зарплат по должностям. Можно заметить, что даже внутри одной должности диапазон (от min до max) может существенно различаться, что подтверждает зависимость оплаты труда от факторов стажа, уровня ответственности и региона.\n",
        "\n",
        "---"
      ]
    },
    {
      "cell_type": "markdown",
      "metadata": {},
      "source": [
        "**`12. Отфильтровать набор данных. Выбрать только топ 5 должностей по средней зп + год выплаты = 2022 + размер компании S и M. Для отфильтрованного набора данных выполнить группировку: должность и средняя+медианная+минимальная+максимальная зарплата в долларах.\n",
        "`**"
      ]
    },
    {
      "cell_type": "code",
      "execution_count": 90,
      "metadata": {},
      "outputs": [
        {
          "name": "stdout",
          "output_type": "stream",
          "text": [
            "             job_title  Средняя_ЗП  Медианная_ЗП  Минимальная_ЗП  Максимальная_ЗП\n",
            "  Head of Data Science   195937.50     195937.50          167875           224000\n",
            "        Data Scientist   132834.69     133310.00           18442           260000\n",
            "Data Analytics Manager   127485.00     127140.00          105400           150260\n",
            "         Data Engineer   123867.12     115000.00           25000           324000\n",
            "          Data Analyst    97199.32     102100.00           20000           170000\n"
          ]
        }
      ],
      "source": [
        "# Фильтрация по году и размеру компании\n",
        "df_filtered = df[(df['work_year'] == 2022) & (df['company_size'].isin(['S', 'M']))]\n",
        "\n",
        "# Находим топ-5 должностей по средней зарплате\n",
        "top_jobs = (\n",
        "    df_filtered.groupby('job_title')['salary_in_usd']\n",
        "    .mean()\n",
        "    .nlargest(5)\n",
        "    .index\n",
        ")\n",
        "\n",
        "# Оставляем только топ-5 должностей\n",
        "df_top = df_filtered[df_filtered['job_title'].isin(top_jobs)]\n",
        "\n",
        "# Группировка с нужными метриками\n",
        "result = df_top.groupby('job_title')['salary_in_usd'].agg(\n",
        "    Средняя_ЗП='mean',\n",
        "    Медианная_ЗП='median',\n",
        "    Минимальная_ЗП='min',\n",
        "    Максимальная_ЗП='max'\n",
        ").reset_index()\n",
        "\n",
        "# Сортировка вывода по средней ЗП\n",
        "result = result.sort_values(by='Средняя_ЗП', ascending=False)\n",
        "\n",
        "print(result.to_string(index=False))\n"
      ]
    },
    {
      "cell_type": "markdown",
      "metadata": {},
      "source": [
        "---\n",
        "**Пояснение:**\\\n",
        "Рейтинг должностей:\n",
        "- Head of Data Science - 195,937.50$\n",
        "- Data Scientist - 132,834.69$\n",
        "- Data Analytics Manager - 127,485.00$\n",
        "- Data Engineer - 123,867.12$\n",
        "- Data Analyst - 97,199.32$\n",
        "\n",
        "Ключевые наблюдения:\n",
        "Руководящие позиции лидируют по оплате труда, что отражает более высокий уровень ответственности.\n",
        "\n",
        "Технические специалисты показывают значительный разброс зарплат:\n",
        "- Data Engineer демонстрирует наибольший диапазон - от 25,000$ до 324,000$\n",
        "- Data Scientist имеет широкий разброс от 18,442$ до 260,000$\n",
        "\n",
        "Стабильность оплаты:\n",
        "\n",
        "Руководители Data Science имеют наиболее стабильно высокие зарплаты\n",
        "\n",
        "У Data Engineer медиана значительно ниже среднего, что указывает на влияние высокооплачиваемых выбросов\n",
        "\n",
        "Анализ подтверждает четкую иерархию в data-сфере и значительную вариативность оплаты внутри технических специальностей.\n",
        "\n",
        "---"
      ]
    },
    {
      "cell_type": "markdown",
      "metadata": {},
      "source": [
        "**`19. Отфильтровать набор данных. Выбрать только топ 7 должностей по количеству\n",
        "записей в должности + топ 1 год выплаты по количеству записей в году + топ 1\n",
        "размер компании по средней зп в таком размере. Для отфильтрованного\n",
        "набора данных создать группировку: должность и\n",
        "средняя+максимальная+медианная+минимальная зарплата в долларах\n",
        "`**"
      ]
    },
    {
      "cell_type": "code",
      "execution_count": 101,
      "metadata": {},
      "outputs": [
        {
          "name": "stdout",
          "output_type": "stream",
          "text": [
            "Топ-7 должностей: ['Data Scientist', 'Data Engineer', 'Data Analyst', 'Data Analytics Manager', 'Data Analytics Engineer', 'Head of Data Science', 'Data Science Engineer']\n",
            "Топ-1 год: 2022\n",
            "Топ-1 размер компании по средней ЗП: M\n",
            "Количество записей после фильтрации: 173\n",
            "\n",
            "Результат группировки:\n",
            "                         Средняя_ЗП  Медианная_ЗП  Максимальная_ЗП  \\\n",
            "job_title                                                            \n",
            "Head of Data Science      195937.50     195937.50           224000   \n",
            "Data Scientist            134498.12     136620.00           260000   \n",
            "Data Analytics Manager    127485.00     127140.00           150260   \n",
            "Data Engineer             124786.92     116394.50           324000   \n",
            "Data Analyst               99481.65     105000.00           170000   \n",
            "Data Analytics Engineer    20000.00      20000.00            20000   \n",
            "\n",
            "                         Минимальная_ЗП  \n",
            "job_title                                \n",
            "Head of Data Science             167875  \n",
            "Data Scientist                    18442  \n",
            "Data Analytics Manager           105400  \n",
            "Data Engineer                     25000  \n",
            "Data Analyst                      32974  \n",
            "Data Analytics Engineer           20000  \n"
          ]
        }
      ],
      "source": [
        "# Находим топ-7 должностей по количеству записей\n",
        "top_jobs = df['job_title'].value_counts().head(7).index\n",
        "\n",
        "# Находим топ-1 год по количеству записей\n",
        "top_year = df['work_year'].value_counts().head(1).index[0]\n",
        "\n",
        "# Находим топ-1 размер компании по средней зарплате\n",
        "top_company_size = df.groupby('company_size')['salary_in_usd'].mean().nlargest(1).index[0]\n",
        "\n",
        "print(f\"Топ-7 должностей: {list(top_jobs)}\")\n",
        "print(f\"Топ-1 год: {top_year}\")\n",
        "print(f\"Топ-1 размер компании по средней ЗП: {top_company_size}\")\n",
        "\n",
        "# Фильтруем данные по всем условиям\n",
        "df_filtered = df[\n",
        "    (df['job_title'].isin(top_jobs)) & \n",
        "    (df['work_year'] == top_year) & \n",
        "    (df['company_size'] == top_company_size)\n",
        "]\n",
        "\n",
        "print(f\"Количество записей после фильтрации: {len(df_filtered)}\")\n",
        "\n",
        "# Группировка по должности с расчетом статистик\n",
        "result = df_filtered.groupby('job_title')['salary_in_usd'].agg([\n",
        "    ('Средняя_ЗП', 'mean'),\n",
        "    ('Медианная_ЗП', 'median'),\n",
        "    ('Максимальная_ЗП', 'max'),\n",
        "    ('Минимальная_ЗП', 'min')\n",
        "]).round(2).sort_values('Средняя_ЗП', ascending=False)\n",
        "\n",
        "\n",
        "print(\"\\nРезультат группировки:\")\n",
        "print(result)"
      ]
    },
    {
      "cell_type": "markdown",
      "metadata": {},
      "source": [
        "---\n",
        "**Пояснение:**\\\n",
        "Анализ данных показал, что из топ-7 наиболее распространенных должностей в сфере Data только 6 должностей представлены в компаниях размера M в 2022 году.\\\n",
        "Это означает, что одна из популярных должностей - Data Science Engineer отсутствует в выборке компаний за указанный период.\n",
        "\n",
        "После применения всех фильтров в данных осталось 173 записи, относящихся к крупным компаниям в 2022 году.\n",
        "\n",
        "Рейтинг должностей по средней зарплате в крупных компаниях:\n",
        "- Head of Data Science - 195,937.50$ (лидер по оплате)\n",
        "- Data Scientist - 134,498.18$\n",
        "- Data Analytics Manager - 127,458.00$\n",
        "- Data Engineer - 124,786.92$\n",
        "- Data Analyst - 99,481.65$\n",
        "- Data Analytics Engineer - 20,000.00$\n",
        "\n",
        "Ключевые наблюдения:\n",
        "Руководящие позиции значительно опережают по оплате - разница между Head of Data Science и следующей позицией составляет более 57,000$.\n",
        "\n",
        "- Data Analytics Engineer и Data Analyst демонстрируют близкие уровни оплаты с кратным преимуществом Data Analyst'ов.\n",
        "- Data Analyst в крупных компаниях получает существенно выше (324,000$), чем общая средняя по рынку.\n",
        "\n",
        "Разброс зарплат наиболее значителен у Data Scientist (от 18,442$ до 260,000$) и Data Engineer (от 25,000$ до 324,000$).\n",
        "\n",
        "Анализ подтверждает, что в крупных компаниях в 2022 году сложилась четкая иерархия оплаты труда, где руководящие должности получают существенное преимущество, а технические специалисты имеют широкий диапазон зарплат в зависимости от опыта и квалификации.\n",
        "\n",
        "---"
      ]
    }
  ],
  "metadata": {
    "colab": {
      "provenance": []
    },
    "kernelspec": {
      "display_name": ".venv",
      "language": "python",
      "name": "python3"
    },
    "language_info": {
      "codemirror_mode": {
        "name": "ipython",
        "version": 3
      },
      "file_extension": ".py",
      "mimetype": "text/x-python",
      "name": "python",
      "nbconvert_exporter": "python",
      "pygments_lexer": "ipython3",
      "version": "3.13.2"
    }
  },
  "nbformat": 4,
  "nbformat_minor": 0
}
